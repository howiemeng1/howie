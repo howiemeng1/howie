{
 "cells": [
  {
   "cell_type": "code",
   "execution_count": 1,
   "id": "5ffc3572",
   "metadata": {},
   "outputs": [],
   "source": [
    "import re\n",
    "import math\n",
    "import pandas as pd\n",
    "\n",
    "import jieba\n",
    "from gensim.models import word2vec\n",
    "\n",
    "from pprint import pprint"
   ]
  },
  {
   "cell_type": "code",
   "execution_count": null,
   "id": "465cc905",
   "metadata": {},
   "outputs": [],
   "source": [
    "# 文章"
   ]
  },
  {
   "cell_type": "code",
   "execution_count": 2,
   "id": "4320f865",
   "metadata": {
    "scrolled": true
   },
   "outputs": [],
   "source": [
    "article = \"\"\n",
    "\n",
    "#medium\n",
    "infile_m = open(r'medium_all.txt', 'r', encoding='utf-8')\n",
    "article += infile_m.read()\n",
    "infile_m.close()\n",
    "\n",
    "#it\n",
    "infile_i = open(r'it_all.txt', 'r', encoding='utf-8')\n",
    "article += infile_i.read()\n",
    "infile_i.close()"
   ]
  },
  {
   "cell_type": "code",
   "execution_count": null,
   "id": "8e883c2e",
   "metadata": {},
   "outputs": [],
   "source": [
    "# medium_article"
   ]
  },
  {
   "cell_type": "code",
   "execution_count": null,
   "id": "a3a4c342",
   "metadata": {
    "scrolled": true
   },
   "outputs": [],
   "source": [
    "medium_article = article.replace(\"\\n\", \" \").split(\"文章內容\")\n",
    "# print(medium_article[:5])"
   ]
  },
  {
   "cell_type": "code",
   "execution_count": null,
   "id": "318c51e8",
   "metadata": {},
   "outputs": [],
   "source": [
    "#拔符號"
   ]
  },
  {
   "cell_type": "code",
   "execution_count": 4,
   "id": "222312b8",
   "metadata": {},
   "outputs": [],
   "source": [
    "r_1 = r'https?://[a-zA-Z0-9./_%-@=]+|[a-zA-Z0-9]+@[a-zA-Z0-9.]+|@[a-zA-Z0-9.]+|\\d\\.|\\(\\d\\)' #網址 email @line 條列式1. / (1.)\n",
    "r_2 = r'，|,|。|…|！|!|？|\\?|、|；|【|】|〖|〗|「|」|:|：|;|；|＆|&|\\(|（|\\)|）|・|．|<|>|-|–|\\[|]|［|］|\\*|~|～|\\'|\\\"|{|}|\\^|\\$|\\||●|•|★|✦|❖|■|※|✓|⇧|⌘|＝|=|@|\\r|✨|📌|💡|🔒|👋|🌵|💛|_|👷|👨|💼|💻|📚|⭐|📖|🍌|🔥|😭|😆|😅||👏|😄|😎|😍|🎉|🙂|✅|🤪|🤔|👊|😏|😕|🙌|👌|🚩|😂|👉|📍|😣|🤩|🎵|🌈|🥺|🤘|⚡|📮|💁|🙏|👇|🌊|❓|🔮|👍|😵|💃|😱|🎊|✌|🎨|👨|😛|😳|😲|😊'"
   ]
  },
  {
   "cell_type": "code",
   "execution_count": 5,
   "id": "34f99b4d",
   "metadata": {},
   "outputs": [],
   "source": [
    "content1 = []\n",
    "\n",
    "for i in range(len(medium_article)):\n",
    "    c0 = re.sub(r_1, ' ', medium_article[i])\n",
    "    c1 = re.sub(r_2, ' ', c0)\n",
    "    c2 = re.sub(r'^\\s+', '', c1) #開頭是空白拔掉\n",
    "    if c2 != \"\" and c2[:8]!= \"ERROR410\":\n",
    "        content1.append(c2)"
   ]
  },
  {
   "cell_type": "code",
   "execution_count": null,
   "id": "7ab02d46",
   "metadata": {},
   "outputs": [],
   "source": [
    "content1"
   ]
  },
  {
   "cell_type": "code",
   "execution_count": null,
   "id": "b1a3e358",
   "metadata": {},
   "outputs": [],
   "source": [
    "for i in range(100):\n",
    "    print(i)\n",
    "    print(content1[i])\n",
    "    print('-'*50)"
   ]
  },
  {
   "cell_type": "code",
   "execution_count": 7,
   "id": "3c6d2ca6",
   "metadata": {},
   "outputs": [
    {
     "data": {
      "text/plain": [
       "138509"
      ]
     },
     "execution_count": 7,
     "metadata": {},
     "output_type": "execute_result"
    }
   ],
   "source": [
    "len(content1)"
   ]
  },
  {
   "cell_type": "code",
   "execution_count": null,
   "id": "ba54269c",
   "metadata": {},
   "outputs": [],
   "source": [
    "#拔停頓詞"
   ]
  },
  {
   "cell_type": "code",
   "execution_count": 8,
   "id": "1f770414",
   "metadata": {},
   "outputs": [],
   "source": [
    "stop = r'那種|這種|已經|的|你|妳|我|他|們|您|這個|那個|與|和|或|及|之|等|不只|是|以及|每次|提供|例如|並|者|又|至|最|於|需|需要|而且|且|目前|尋找|想找|尤佳|更|佳|希望|職缺|公司|工作|內容|職務|面試|面談|人才|履歷|職位|包含|一間|具備|熟悉|熟練|成立|主要|單位|眾多|負責|歡迎|加入|至少|使用|相關|擔任|回覆|對於|協助|辦理|事務|執行|關於|以下|其他|致力|身為|簡介|企業|另行|懂|非常|謝謝|帶來|若|如果|如下|未填寫'\n",
    "stop_eng = r'\\ba\\b|\\bi\\b|\\byou\\b|\\bwe\\b|\\bis\\b|\\bare\\b|\\bwas\\b|\\bwere\\b|\\band\\b|\\bthe\\b|\\bin\\b|\\bfor\\b|\\bon\\b|\\bto\\b|\\bat\\b|\\bof\\b'\n",
    "r_import = r'(?=import)|(?=matplotlib)|(?=python)|(?=jupyter)|(?=pip)|(?=tensorflow)'"
   ]
  },
  {
   "cell_type": "code",
   "execution_count": 9,
   "id": "f4938bfa",
   "metadata": {},
   "outputs": [],
   "source": [
    "content2 = []\n",
    "\n",
    "for i in range(len(content1)):\n",
    "    c3 = re.sub(stop, ' ', content1[i])\n",
    "    c4 = c3.lower()\n",
    "    c5 = re.sub(r'\\s+', ' ', c4)\n",
    "    c6 = re.sub(stop_eng, ' ', c5)\n",
    "    content2.append(c6)"
   ]
  },
  {
   "cell_type": "code",
   "execution_count": null,
   "id": "fad52817",
   "metadata": {},
   "outputs": [],
   "source": [
    "for i in range(100):\n",
    "    print(i)\n",
    "    print(content2[i])\n",
    "    print('-'*30)"
   ]
  },
  {
   "cell_type": "code",
   "execution_count": null,
   "id": "00f5d24f",
   "metadata": {},
   "outputs": [],
   "source": [
    "#切關鍵字"
   ]
  },
  {
   "cell_type": "code",
   "execution_count": 10,
   "id": "0c0bf337",
   "metadata": {},
   "outputs": [
    {
     "name": "stderr",
     "output_type": "stream",
     "text": [
      "Building prefix dict from the default dictionary ...\n",
      "Loading model from cache C:\\Users\\Noah\\AppData\\Local\\Temp\\jieba.cache\n",
      "Loading model cost 0.318 seconds.\n",
      "Prefix dict has been built successfully.\n"
     ]
    }
   ],
   "source": [
    "with open(r'C:\\Selenium\\word2vec\\word2vec所有東西\\trad_dict.txt', 'r' , encoding='utf-8') as infile:\n",
    "    d = infile.read()\n",
    "    for word in d:\n",
    "        jieba.add_word(word)\n",
    "path_dic = [r'C:\\Selenium\\word2vec\\word2vec所有東西\\wiki_lower.txt',\n",
    "            r'C:\\Selenium\\word2vec\\word2vec所有東西\\ee_lower.txt',\n",
    "            r'C:\\Selenium\\word2vec\\word2vec所有東西\\computer_lower.txt',\n",
    "            r'C:\\Selenium\\word2vec\\word2vec所有東西\\statistics_lower.txt',\n",
    "            r'C:\\Selenium\\word2vec\\word2vec所有東西\\library_lower.txt']\n",
    "        \n",
    "for dic in path_dic:\n",
    "    with open(dic, 'r', encoding='utf-8') as infile:\n",
    "        d = infile.read()\n",
    "    for word in d:\n",
    "        jieba.add_word(word+' 1000')\n"
   ]
  },
  {
   "cell_type": "code",
   "execution_count": 31,
   "id": "196b7a65",
   "metadata": {},
   "outputs": [],
   "source": [
    "jieba.add_word('asp.net')\n",
    "jieba.add_word('區塊鍊')\n",
    "jieba.add_word('區塊鏈')\n",
    "jieba.add_word('加分項')\n",
    "jieba.add_word('加分')\n",
    "jieba.add_word('sas')\n",
    "jieba.add_word('aml')\n",
    "jieba.add_word('es6+')\n",
    "jieba.add_word('信託')\n",
    "jieba.add_word('大數據')\n",
    "jieba.add_word('撰寫')\n",
    "jieba.add_word('身體')\n",
    "jieba.add_word('公佈')\n",
    "jieba.add_word('方向')\n",
    "jieba.add_word('吸引力')\n",
    "jieba.add_word('為什麼')\n",
    "jieba.add_word('製作')\n",
    "jieba.add_word('mysql')\n",
    "jieba.add_word('mssql')\n",
    "jieba.add_word('sqlite')\n",
    "jieba.add_word('rfp')\n",
    "jieba.add_word('新創')\n",
    "jieba.add_word('工程師')\n",
    "jieba.add_word('帶領')\n",
    "jieba.add_word('佈署')\n",
    "jieba.add_word('製作')\n",
    "jieba.add_word('追蹤')\n",
    "jieba.add_word('開發')\n",
    "jieba.add_word('經驗')\n",
    "jieba.add_word('優化')\n",
    "jieba.add_word('作業')\n",
    "jieba.add_word('透過')\n",
    "jieba.add_word('程式碼')\n",
    "jieba.add_word('回應')\n",
    "jieba.add_word('不確定')\n",
    "jieba.add_word('委託')\n",
    "jieba.add_word('接下來')\n",
    "jieba.add_word('壓力測試')\n",
    "jieba.add_word('沒有')\n",
    "jieba.add_word('區塊鏈')\n",
    "jieba.add_word('比特幣')\n",
    "jieba.add_word('最大值')\n",
    "jieba.add_word('最小值')\n",
    "jieba.add_word('訓練集')\n",
    "jieba.add_word('邏輯式迴歸')\n",
    "jieba.add_word('邏輯式回歸')\n",
    "jieba.add_word('羅吉斯迴歸')\n",
    "jieba.add_word('羅吉斯回歸')\n",
    "jieba.add_word('迴歸')\n",
    "jieba.add_word('線性迴歸')\n",
    "jieba.add_word('線性回歸')\n",
    "jieba.add_word('特徵')\n",
    "jieba.add_word('程式碼')\n",
    "jieba.add_word('物件導向')\n",
    "jieba.add_word('前端')\n",
    "jieba.add_word('後端')\n",
    "jieba.add_word('全端')\n",
    "jieba.add_word('前後端')\n",
    "jieba.add_word('工程師')\n",
    "jieba.add_word('分類器')\n",
    "jieba.add_word('機器學習')\n",
    "jieba.add_word('深度學習')\n",
    "jieba.add_word('演算法')\n",
    "jieba.add_word('監督式')\n",
    "jieba.add_word('機率')\n",
    "jieba.add_word('人工智慧')\n",
    "jieba.add_word('決策樹')\n",
    "jieba.add_word('數據分析')\n",
    "jieba.add_word('資料探勘')\n",
    "jieba.add_word('正規化')\n",
    "jieba.add_word('過度配適')\n",
    "jieba.add_word('特徵工程')\n",
    "jieba.add_word('特徵選取')\n",
    "jieba.add_word('svm')\n",
    "jieba.add_word('random forest')\n",
    "jieba.add_word('隨機森林')\n",
    "jieba.add_word('sklearn')\n",
    "jieba.add_word('矩陣')\n",
    "jieba.add_word('自然語言處理')\n",
    "jieba.add_word('logistic regression')\n",
    "jieba.add_word('linear regression')\n",
    "jieba.add_word('k means')\n",
    "jieba.add_word('主成分分析')\n",
    "jieba.add_word('統計')\n",
    "jieba.add_word('maximum likelihood estimation')\n",
    "jieba.add_word('reinforcement learning')\n",
    "jieba.add_word('decision tree')\n",
    "jieba.add_word('id3')\n",
    "jieba.add_word('naive bayes')\n",
    "jieba.add_word('polynomial regression')\n",
    "jieba.add_word('lasso regression')\n",
    "jieba.add_word('ridge regression')\n",
    "jieba.add_word('elasticnet regression')\n",
    "jieba.add_word('網頁設計')\n",
    "jieba.add_word('專案管理')\n",
    "jieba.add_word('梯度下降法')\n",
    "jieba.add_word('資安')\n",
    "jieba.add_word('word embedding')\n",
    "jieba.add_word('網路爬蟲')\n",
    "jieba.add_word('資工')\n",
    "jieba.add_word('叢集')\n",
    "jieba.add_word('迴歸樹')\n",
    "jieba.add_word('回歸樹')\n",
    "jieba.add_word('分類樹')\n",
    "jieba.add_word('管理員')\n",
    "jieba.add_word('系統')\n",
    "jieba.add_word('安裝')\n",
    "jieba.add_word('邏輯斯迴歸')\n",
    "jieba.add_word('邏輯斯回歸')\n",
    "jieba.add_word('裝置')"
   ]
  },
  {
   "cell_type": "code",
   "execution_count": 32,
   "id": "65b55552",
   "metadata": {},
   "outputs": [],
   "source": [
    "content3 = []"
   ]
  },
  {
   "cell_type": "code",
   "execution_count": 33,
   "id": "6a3eafdc",
   "metadata": {
    "scrolled": true
   },
   "outputs": [],
   "source": [
    "#精確模式（Default Mode）\n",
    "seg_list = []\n",
    "for i in range(len(content2)):\n",
    "    seg_list = jieba.cut(content2[i], cut_all=False) #預設是精確模式　seg_list = jieba.cut(test)\n",
    "    content3.append(\" \".join(seg_list))"
   ]
  },
  {
   "cell_type": "code",
   "execution_count": null,
   "id": "ef73b4d2",
   "metadata": {},
   "outputs": [],
   "source": [
    "for i in range(100):\n",
    "    print(i)\n",
    "    print(content3[i])\n",
    "    print('-'*20)"
   ]
  },
  {
   "cell_type": "code",
   "execution_count": 37,
   "id": "69d1bd53",
   "metadata": {},
   "outputs": [],
   "source": [
    "r_3 = r'\\b\\d+\\b'  # 濾掉都是數字"
   ]
  },
  {
   "cell_type": "code",
   "execution_count": 38,
   "id": "e166e4e7",
   "metadata": {},
   "outputs": [],
   "source": [
    "content4 = []\n",
    "\n",
    "for i in range(len(content3)):\n",
    "    c7 = re.sub(r_3, ' ', content3[i])\n",
    "    c8 = c7.split()\n",
    "    c9 = []\n",
    "    i = len(c8)-1\n",
    "    while i>=0:\n",
    "        if c8[i] == '.' or c8[i] == '/' or c8[i] == '//' or c8[i] == '\\\\' or c8[i] == '\\\\\\\\' or (not c8[i].isprintable()):\n",
    "            i -= 1\n",
    "            continue\n",
    "        if c8[i] == 'co' and c8[i-1] == '/' and c8[i-2] == 'fi':\n",
    "            if c8[i-3] == 'hana':\n",
    "                c9.append('s/4 hana fi/co')\n",
    "                i -= 7\n",
    "                continue\n",
    "            elif c8[i-3] == '4' and c8[i-4] == '\\/' and c8[i-5] == 's':\n",
    "                c9.append('s/4 fi/co')\n",
    "                i -= 6\n",
    "                continue\n",
    "        if c8[i] == 'hana':\n",
    "            if c8[i-1] == '4' and c8[i-2] == '/' and c8[i-3] == 's':\n",
    "                i -= 4\n",
    "                continue\n",
    "\n",
    "        c9.append(c8[i])\n",
    "        i -= 1\n",
    "    content4.append(c9[::-1])\n",
    "\n"
   ]
  },
  {
   "cell_type": "code",
   "execution_count": null,
   "id": "c0b2b544",
   "metadata": {},
   "outputs": [],
   "source": [
    "for i in range(100):\n",
    "    print(i)\n",
    "    print(content4[i])"
   ]
  },
  {
   "cell_type": "code",
   "execution_count": 36,
   "id": "3fc7226b",
   "metadata": {
    "scrolled": true
   },
   "outputs": [
    {
     "data": {
      "text/plain": [
       "138509"
      ]
     },
     "execution_count": 36,
     "metadata": {},
     "output_type": "execute_result"
    }
   ],
   "source": [
    "len(content4)"
   ]
  },
  {
   "cell_type": "code",
   "execution_count": 39,
   "id": "934a4aab",
   "metadata": {},
   "outputs": [
    {
     "name": "stdout",
     "output_type": "stream",
     "text": [
      "65834372\n"
     ]
    }
   ],
   "source": [
    "cnt = 0\n",
    "# 計算有幾個字\n",
    "for i in range(len(content4)):\n",
    "    cnt += len(content4[i])\n",
    "\n",
    "print(cnt)"
   ]
  },
  {
   "cell_type": "code",
   "execution_count": null,
   "id": "8de3217f",
   "metadata": {},
   "outputs": [],
   "source": [
    "#word2vec"
   ]
  },
  {
   "cell_type": "code",
   "execution_count": 52,
   "id": "4f9faa3e",
   "metadata": {},
   "outputs": [],
   "source": [
    "seed = 666\n",
    "sg = 1\n",
    "window_size = 15\n",
    "vector_size = 100\n",
    "min_count = 15\n",
    "workers = 8\n",
    "epochs = 5\n",
    "batch_words = 10000\n",
    "\n",
    "train_data = content4\n",
    "model = word2vec.Word2Vec(\n",
    "    train_data,\n",
    "    min_count=min_count,\n",
    "    vector_size=vector_size,\n",
    "    workers=workers,\n",
    "    epochs=epochs,\n",
    "    window=window_size,\n",
    "    sg=sg,\n",
    "    seed=seed,\n",
    "    batch_words=batch_words\n",
    ")\n",
    "\n",
    "model.save('word2vec_new.model')"
   ]
  },
  {
   "cell_type": "code",
   "execution_count": 71,
   "id": "0b7b0607",
   "metadata": {},
   "outputs": [
    {
     "name": "stdout",
     "output_type": "stream",
     "text": [
      "('python3', 0.654632031917572)\n",
      "('python2', 0.6442477703094482)\n",
      "('matlab', 0.5746700763702393)\n",
      "('tensorflow', 0.574173629283905)\n",
      "('julia', 0.5713040232658386)\n",
      "('policycoreutils', 0.5563000440597534)\n",
      "('c++', 0.5520069599151611)\n",
      "('spyder', 0.5512034893035889)\n",
      "('anaconda', 0.5441309213638306)\n",
      "('直譯器', 0.5316161513328552)\n"
     ]
    }
   ],
   "source": [
    "model = word2vec.Word2Vec.load('word2vec_new.model')\n",
    "for item in model.wv.most_similar('python'):\n",
    "    print(item)"
   ]
  },
  {
   "cell_type": "code",
   "execution_count": 69,
   "id": "fce876eb",
   "metadata": {},
   "outputs": [
    {
     "name": "stdout",
     "output_type": "stream",
     "text": [
      "('平台', 0.5981792211532593)\n",
      "('程序', 0.5761362910270691)\n",
      "('電腦', 0.5674111843109131)\n",
      "('單機', 0.5601223111152649)\n",
      "('軟體', 0.5481785535812378)\n",
      "('硬體', 0.5442711114883423)\n",
      "('流程', 0.5345582962036133)\n",
      "('erp', 0.5314821004867554)\n",
      "('環境', 0.5177878141403198)\n",
      "('人員', 0.5134617686271667)\n"
     ]
    }
   ],
   "source": [
    "for item in model.wv.most_similar('系統'):\n",
    "    print(item)"
   ]
  },
  {
   "cell_type": "code",
   "execution_count": 70,
   "id": "808fd14a",
   "metadata": {},
   "outputs": [
    {
     "name": "stdout",
     "output_type": "stream",
     "text": [
      "('跨鏈', 0.6921968460083008)\n",
      "('技術', 0.6218513250350952)\n",
      "('dapp', 0.6134414672851562)\n",
      "('p2p', 0.6121850609779358)\n",
      "('tendermint', 0.6112187504768372)\n",
      "('公鏈', 0.6101110577583313)\n",
      "('人工智能', 0.609279215335846)\n",
      "('從理論', 0.6091738343238831)\n",
      "('帳本', 0.6055020093917847)\n",
      "('比特幣', 0.5969818234443665)\n"
     ]
    }
   ],
   "source": [
    "for item in model.wv.most_similar('區塊鏈'):\n",
    "    print(item)"
   ]
  }
 ],
 "metadata": {
  "kernelspec": {
   "display_name": "Python 3 (ipykernel)",
   "language": "python",
   "name": "python3"
  },
  "language_info": {
   "codemirror_mode": {
    "name": "ipython",
    "version": 3
   },
   "file_extension": ".py",
   "mimetype": "text/x-python",
   "name": "python",
   "nbconvert_exporter": "python",
   "pygments_lexer": "ipython3",
   "version": "3.9.13"
  },
  "vscode": {
   "interpreter": {
    "hash": "2e768087b532071671ae8a7186f7133acb08351f58957c2e8821c9438d466df1"
   }
  }
 },
 "nbformat": 4,
 "nbformat_minor": 5
}
