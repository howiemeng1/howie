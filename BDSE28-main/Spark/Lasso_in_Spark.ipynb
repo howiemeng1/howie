{
 "cells": [
  {
   "cell_type": "code",
   "execution_count": 1,
   "id": "f1291279-5c30-40cb-a5a2-48812ba1a8c6",
   "metadata": {},
   "outputs": [],
   "source": [
    "import os\n",
    "\n",
    "import numpy as np\n",
    "import pandas as pd\n",
    "\n",
    "from sklearn.ensemble import RandomForestRegressor\n",
    "from sklearn.datasets import make_regression\n",
    "# from sklearn.model_selection import GridSearchCV\n",
    "\n",
    "from pyspark.sql import SparkSession\n",
    "import pyspark\n",
    "from pyspark.ml.feature import VectorAssembler, StringIndexer\n",
    "from pyspark.ml.regression import LinearRegression\n",
    "from pyspark.ml.regression import RandomForestRegressor\n",
    "from pyspark.ml.evaluation import RegressionEvaluator"
   ]
  },
  {
   "cell_type": "code",
   "execution_count": 2,
   "id": "e1faa7c8-202b-4c49-bc1d-4c027b19ec32",
   "metadata": {},
   "outputs": [],
   "source": [
    "import pyspark.pandas as ps"
   ]
  },
  {
   "cell_type": "code",
   "execution_count": 3,
   "id": "2651f6da-a08d-48f1-b5c1-e4dc155f9429",
   "metadata": {},
   "outputs": [],
   "source": [
    "spark.conf.set(\"spark.sql.execution.arrow.pyspark.enabled\",True)\n",
    "ps.set_option(\"compute.default_index_type\", \"distributed\")"
   ]
  },
  {
   "cell_type": "code",
   "execution_count": 4,
   "id": "ee6863b9-d3dc-40d6-adbd-95cfe8f4d59f",
   "metadata": {},
   "outputs": [
    {
     "data": {
      "text/html": [
       "\n",
       "            <div>\n",
       "                <p><b>SparkSession - hive</b></p>\n",
       "                \n",
       "        <div>\n",
       "            <p><b>SparkContext</b></p>\n",
       "\n",
       "            <p><a href=\"http://dta1:4040\">Spark UI</a></p>\n",
       "\n",
       "            <dl>\n",
       "              <dt>Version</dt>\n",
       "                <dd><code>v3.3.1</code></dd>\n",
       "              <dt>Master</dt>\n",
       "                <dd><code>yarn</code></dd>\n",
       "              <dt>AppName</dt>\n",
       "                <dd><code>PySparkShell</code></dd>\n",
       "            </dl>\n",
       "        </div>\n",
       "        \n",
       "            </div>\n",
       "        "
      ],
      "text/plain": [
       "<pyspark.sql.session.SparkSession at 0x7f0748151ee0>"
      ]
     },
     "execution_count": 4,
     "metadata": {},
     "output_type": "execute_result"
    }
   ],
   "source": [
    "spark"
   ]
  },
  {
   "cell_type": "code",
   "execution_count": 5,
   "id": "e2d87625-0802-4b76-a17d-3e79d1075bba",
   "metadata": {},
   "outputs": [],
   "source": [
    "df =  pd.read_csv(\"5w_dummies.csv\",encoding='utf-8-sig')\n",
    "# df"
   ]
  },
  {
   "cell_type": "code",
   "execution_count": 6,
   "id": "f7c61143-b270-43b9-9cf8-efb8099ae1b6",
   "metadata": {},
   "outputs": [],
   "source": [
    "df = df.drop(['嘉義市.1'], axis=1)\n",
    "df = df.drop(['ASP.NET'], axis=1)\n",
    "df = df.drop(['新竹市.1'], axis=1)\n",
    "df = df.drop(['C++.Net'], axis=1)\n",
    "df = df.drop(['D3.js'], axis=1)\n",
    "df = df.drop(['Node.js'], axis=1)\n",
    "df = df.drop(['Visual-Basic-.net'], axis=1)\n",
    "df = df.drop(['Visual-Studio-.net'], axis=1)\n",
    "df = df.drop(['X.25'], axis=1)"
   ]
  },
  {
   "cell_type": "code",
   "execution_count": 7,
   "id": "e251216c-d89f-4218-98bc-4bf926194ab6",
   "metadata": {},
   "outputs": [],
   "source": [
    "from sklearn.model_selection import train_test_split\n",
    "X_train, X_test = train_test_split(df, test_size=0.1, random_state=0)"
   ]
  },
  {
   "cell_type": "code",
   "execution_count": 8,
   "id": "7cba2896-ec3b-4dcf-bb88-87491330338c",
   "metadata": {
    "tags": []
   },
   "outputs": [
    {
     "name": "stderr",
     "output_type": "stream",
     "text": [
      "/opt/spark-3.3.1-bin-hadoop3/python/pyspark/pandas/internal.py:1573: FutureWarning: iteritems is deprecated and will be removed in a future version. Use .items instead.\n",
      "  fields = [\n",
      "/opt/spark-3.3.1-bin-hadoop3/python/pyspark/sql/pandas/conversion.py:604: FutureWarning: iteritems is deprecated and will be removed in a future version. Use .items instead.\n",
      "  [(c, t) for (_, c), t in zip(pdf_slice.iteritems(), arrow_types)]\n",
      "/opt/spark-3.3.1-bin-hadoop3/python/pyspark/pandas/utils.py:975: PandasAPIOnSparkAdviceWarning: If `index_col` is not specified for `to_spark`, the existing index is lost when converting to Spark DataFrame.\n",
      "  warnings.warn(message, PandasAPIOnSparkAdviceWarning)\n"
     ]
    },
    {
     "name": "stdout",
     "output_type": "stream",
     "text": [
      "23/01/04 07:37:24 WARN package: Truncated the string representation of a plan since it was too large. This behavior can be adjusted by setting 'spark.sql.debug.maxToStringFields'.\n",
      "23/01/04 07:37:24 WARN TaskSetManager: Stage 0 contains a task of very large size (1661 KiB). The maximum recommended task size is 1000 KiB.\n"
     ]
    },
    {
     "name": "stderr",
     "output_type": "stream",
     "text": [
      "[Stage 0:>                                                          (0 + 1) / 1]\r"
     ]
    },
    {
     "name": "stdout",
     "output_type": "stream",
     "text": [
      "+--------------------+-----+\n",
      "|            features|label|\n",
      "+--------------------+-----+\n",
      "|(761,[0,2,3,5,7,2...|32000|\n",
      "|(761,[0,2,3,5,7,1...|33000|\n",
      "|(761,[0,2,3,4,8,1...|40000|\n",
      "|(761,[0,2,3,5,7,2...|40000|\n",
      "|(761,[0,2,3,5,7,2...|53846|\n",
      "|(761,[0,2,3,5,7,1...|35000|\n",
      "|(761,[0,2,3,5,8,2...|50000|\n",
      "|(761,[0,2,3,5,7,1...|32000|\n",
      "|(761,[0,1,2,3,5,8...|30000|\n",
      "|(761,[0,2,3,5,8,2...|33000|\n",
      "+--------------------+-----+\n",
      "only showing top 10 rows\n",
      "\n"
     ]
    },
    {
     "name": "stderr",
     "output_type": "stream",
     "text": [
      "                                                                                \r"
     ]
    }
   ],
   "source": [
    "feature_names = X_train.columns\n",
    "feature_names = feature_names.tolist()\n",
    "train_data = X_train.loc[:,feature_names]\n",
    "train_data['label'] = train_data['工作待遇_min']\n",
    "train_data = ps.DataFrame(train_data)\n",
    "train_data = train_data.to_spark()\n",
    "feature_cols = feature_names\n",
    "assembler = VectorAssembler(inputCols=feature_cols, outputCol='features')\n",
    "train_data = assembler.transform(train_data)\n",
    "train_model = train_data.select(['features', 'label'])\n",
    "train_model.show(10)\n"
   ]
  },
  {
   "cell_type": "code",
   "execution_count": 9,
   "id": "1b1d4c25-7ab3-4fab-80ab-04564bd8fd0c",
   "metadata": {},
   "outputs": [
    {
     "name": "stderr",
     "output_type": "stream",
     "text": [
      "/opt/spark-3.3.1-bin-hadoop3/python/pyspark/pandas/internal.py:1573: FutureWarning: iteritems is deprecated and will be removed in a future version. Use .items instead.\n",
      "  fields = [\n",
      "/opt/spark-3.3.1-bin-hadoop3/python/pyspark/sql/pandas/conversion.py:604: FutureWarning: iteritems is deprecated and will be removed in a future version. Use .items instead.\n",
      "  [(c, t) for (_, c), t in zip(pdf_slice.iteritems(), arrow_types)]\n",
      "/opt/spark-3.3.1-bin-hadoop3/python/pyspark/pandas/utils.py:975: PandasAPIOnSparkAdviceWarning: If `index_col` is not specified for `to_spark`, the existing index is lost when converting to Spark DataFrame.\n",
      "  warnings.warn(message, PandasAPIOnSparkAdviceWarning)\n",
      "[Stage 1:>                                                          (0 + 1) / 1]\r"
     ]
    },
    {
     "name": "stdout",
     "output_type": "stream",
     "text": [
      "+--------------------+------+\n",
      "|            features| label|\n",
      "+--------------------+------+\n",
      "|(761,[0,2,3,5,7,2...| 34000|\n",
      "|(761,[0,2,3,5,7,2...| 33000|\n",
      "|(761,[0,2,3,5,7,3...| 36000|\n",
      "|(761,[0,2,3,5,9,2...|100000|\n",
      "|(761,[0,2,3,5,7,1...| 37000|\n",
      "|(761,[0,2,3,5,7,2...| 32000|\n",
      "|(761,[0,2,3,5,7,2...| 60000|\n",
      "|(761,[0,2,3,5,7,2...| 33100|\n",
      "|(761,[0,2,3,5,8,1...| 27000|\n",
      "|(761,[0,2,3,4,8,2...| 25250|\n",
      "+--------------------+------+\n",
      "only showing top 10 rows\n",
      "\n"
     ]
    },
    {
     "name": "stderr",
     "output_type": "stream",
     "text": [
      "                                                                                \r"
     ]
    }
   ],
   "source": [
    "# df3 = df.sample(2000, random_state=0)\n",
    "test_data = X_test.loc[:, feature_names]\n",
    "test_data['label'] = test_data['工作待遇_min']\n",
    "test_data = ps.DataFrame(test_data)\n",
    "test_data = test_data.to_spark()\n",
    "feature_cols2 = feature_names\n",
    "assembler = VectorAssembler(inputCols=feature_cols2, outputCol='features')\n",
    "test_data = assembler.transform(test_data)\n",
    "test_model = test_data.select(['features', 'label'])\n",
    "test_model.show(10)"
   ]
  },
  {
   "cell_type": "code",
   "execution_count": 109,
   "id": "97357eb7-1055-4e2f-8cec-334fff47fd71",
   "metadata": {},
   "outputs": [],
   "source": [
    "lin_Reg=LinearRegression(labelCol='label', elasticNetParam=1 , regParam=0.01)"
   ]
  },
  {
   "cell_type": "code",
   "execution_count": 110,
   "id": "e9d83152-3a54-4d5b-bc95-dbbd5e1ba399",
   "metadata": {},
   "outputs": [
    {
     "name": "stdout",
     "output_type": "stream",
     "text": [
      "23/01/03 12:25:30 WARN TaskSetManager: Stage 11 contains a task of very large size (1840 KiB). The maximum recommended task size is 1000 KiB.\n"
     ]
    },
    {
     "name": "stderr",
     "output_type": "stream",
     "text": [
      "                                                                                \r"
     ]
    },
    {
     "name": "stdout",
     "output_type": "stream",
     "text": [
      "23/01/03 12:25:38 WARN BLAS: Failed to load implementation from: com.github.fommil.netlib.NativeSystemBLAS\n",
      "23/01/03 12:25:38 WARN BLAS: Failed to load implementation from: com.github.fommil.netlib.NativeRefBLAS\n",
      "23/01/03 12:25:38 WARN TaskSetManager: Stage 13 contains a task of very large size (1840 KiB). The maximum recommended task size is 1000 KiB.\n"
     ]
    },
    {
     "name": "stderr",
     "output_type": "stream",
     "text": [
      "                                                                                \r"
     ]
    }
   ],
   "source": [
    "lr_model=lin_Reg.fit(train_model)"
   ]
  },
  {
   "cell_type": "code",
   "execution_count": 111,
   "id": "9897174d-64a1-4bbb-8a52-23fab7d78d3a",
   "metadata": {},
   "outputs": [
    {
     "data": {
      "text/plain": [
       "135.93976482007272"
      ]
     },
     "execution_count": 111,
     "metadata": {},
     "output_type": "execute_result"
    }
   ],
   "source": [
    "lr_model.intercept"
   ]
  },
  {
   "cell_type": "code",
   "execution_count": 112,
   "id": "ffcd8cfd-4ae4-49a3-adc6-1f0f76b34528",
   "metadata": {},
   "outputs": [
    {
     "data": {
      "text/plain": [
       "DenseVector([0.0, 0.1995, -0.0057, 1.0, -0.2127, 0.2127, 16.1694, 16.6437, 16.9187, 17.0062, 32.1005, 39.8233, 307.5604, 160.2768, 209.9109, 24.1587, 129.6585, -28.457, -38.6305, 59.4049, 0.0, 35.4595, -5.0499, 19.0224, 18.2292, 239.4674, 43.6664, -49.6146, 55.2046, 478.8978, -1.0329, -4.1209, -112.1544, -57.5367, -208.8074, -50.324, 25.821, -57.2073, -57.6719, -72.955, -57.4793, -300.0443, -62.6645, -112.9865, -112.6924, -47.963, -144.8149, -208.6358, -57.2284, -47.7663, -112.4026, -3.7428, -50.4676, -144.4818, 0.0, -48.2673, -112.8149, 0.0, -112.9106, -62.3572, -57.2206, 25.5668, 0.0, -209.1323, -50.2085, -50.3714, -69.5828, -73.7281, -112.7109, -176.2293, -68.3694, -73.5355, 0.0, -112.862, -208.8147, 23.0593, -27.9476, 0.6312, -72.3362, -72.4502, -144.3682, -208.4605, -144.8347, -48.071, -57.5717, -145.738, 0.0, -144.4796, -112.9953, -207.8716, -26.5486, -75.0746, -112.7994, -62.3036, -113.1261, -50.3212, -144.6226, -298.7831, -50.0128, -62.4135, -73.4526, -51.2651, -72.0911, -73.1174, -73.542, -298.875, -73.1126, -47.3732, -47.9529, -47.7031, -112.1891, -47.8755, -209.336, -105.8257, -50.0966, -0.2038, -46.9303, -50.26, -50.8238, -61.4273, -145.088, 25.7255, -112.8849, -6.0095, -5.5973, -46.6315, 0.0, -28.2382, -106.1028, -61.9111, -48.0996, -57.507, 0.0, -50.6495, -50.253, -57.6412, -105.5992, -49.1728, -299.4714, -49.109, 0.0, -112.8311, -57.3193, 0.0, -57.9113, -50.2465, -48.4686, -62.7224, -48.0902, -73.2972, -62.1441, -51.4009, -47.6095, -57.6582, -50.3041, -46.5827, -299.4504, -298.7463, 0.0, -58.0037, -50.1632, -48.2741, -57.7731, -73.3527, -57.3102, -57.5829, -57.3267, -73.201, -49.7392, -106.2324, 0.0, -142.357, -72.7887, 0.0, -72.6731, -50.3816, -26.6875, -57.75, -143.9548, -47.0366, -57.0773, -208.7842, -144.3171, -73.4753, -144.3125, 0.0, -145.2664, -105.9359, 26.9295, -105.6513, -144.2869, -209.5734, -175.7821, -105.931, -145.2937, -27.3621, -144.7465, 26.2292, -50.389, 26.1942, -49.7889, 0.0, 23.0815, -5.946, 0.0, -112.8832, -56.3925, -62.2699, -208.833, -6.0689, -73.1757, -73.4065, -62.4962, -73.2426, -50.2374, 0.0, -175.2636, 1.5271, -424.5769, -422.1377, -56.4382, -422.6632, -422.7585, 25.4425, -0.3214, -44.9952, -104.9464, -49.7717, -260.6235, -55.6886, -73.125, 26.6712, -208.6057, 35.4595, -49.5876, -50.3366, -56.5774, -49.7381, -47.5324, -144.5785, -299.6096, 0.0, -1.0844, -6.5769, -47.9759, -50.2468, -72.2354, -62.5193, -62.0889, 0.0038, -0.0038, 115.6083, 115.0415, 115.3967, -11.3777, -12.1669, -11.3046, -166.8861, -166.5622, -167.3257, 11.5584, 11.5169, 10.8387, 11.5221, 11.5807, -1.0859, -1.3136, 0.0, 0.0, -39.6163, 0.0, 0.0, 0.0, -3.9208, 6.3933, -1.044, -0.0987, -1.9521, -1.6842, -0.9645, 0.0, 0.2632, 0.0, -0.0369, -0.9603, 0.8921, 0.0, -48.1382, -0.7502, -0.0, 1.8957, 1.5644, 0.2039, 0.0, -3.5461, -2.2122, 0.3053, -0.0367, -0.0878, -0.3191, -0.0, 6.9314, 0.0, -0.023, 0.0, 0.1532, 1.0466, -2.6866, 0.0, 0.199, -12.3435, 7.0148, 0.0, 0.0, 1.5433, -0.0409, 0.0, -8.5843, -0.1061, 0.0118, -0.2392, 0.0, 0.1801, 0.0, 0.0, 0.0, -0.5648, 133.6949, -0.0409, 0.0, 0.0, -0.0409, -0.9257, -0.3023, 0.7843, 0.0, -0.9431, -0.4289, 0.0, 6.2602, -1.4506, 0.0, 1.6361, -7.0182, -1.0348, -0.8773, 3.4411, -0.0409, -0.0409, 4.2505, -1.3355, 0.0, -0.0409, -2.2382, 1.1008, 0.0, 0.0, 0.0, 0.0, 0.0, 0.1647, -7.4333, -0.9866, 0.0, 0.0, -0.2304, 3.1161, 1.8321, -19.9769, 0.2648, -5.9122, 3.7295, -3.0497, 0.5572, -0.0923, -0.9682, -1.1795, 0.0551, -2.0492, 3.8548, 1.0374, 0.0, -6.7675, -6.1097, 0.0, 2.9799, 0.0, 3.8485, -0.0, 0.8283, 0.2014, 0.0, 0.7162, -0.0, 0.0, -0.0409, 0.2131, -0.0762, 0.96, 1.2506, -0.194, 0.2722, 0.0, -0.0409, -0.2854, -5.7262, 4.2505, 0.0, -8.8948, 2.3549, -10.5587, -3.7968, 0.0, 0.0, 0.0, 0.0, 0.0, 0.0401, -0.0218, 0.0, 1.1197, -1.4774, 11.8468, 1.8274, -12.4859, -2.5992, 0.0, -3.4558, 0.2356, -0.1154, -5.1108, 40.2749, -7.1486, -0.0409, 0.0, -1.907, -0.3706, 1.3095, -21.2413, 2.5015, -1.7363, -8.8948, 0.0, 0.0, -2.5331, -1.528, -1.4506, -2.2106, 2.8293, -1.3394, 0.0, -0.5156, 0.0, 0.0, -0.2609, 0.0, -0.0, 0.0, -0.2799, 0.0, 2.7679, -0.146, 0.0687, 0.2048, -0.039, 0.5206, -1.0012, 0.0, -0.2782, -0.4446, 0.0, -0.7708, -3.8199, -21.6997, -21.6997, 0.0, -1.4506, 0.0, 2.7322, 0.0, 6.6462, -1.4005, 0.6595, 0.877, 0.8212, -0.1208, 0.0, 0.0, 12.1381, 1.6046, -1.9752, 0.0, 0.0, 0.0225, 1.5114, 0.0, 0.0, 0.0, -21.3316, 7.6661, 0.6532, -41.4475, -3.6446, -0.1679, 1.6685, -0.2233, 1.5589, 0.0, 0.0, 0.0, -1.9381, 0.0, -0.0759, 0.0, 0.0, 36.0082, -24.7018, -21.2014, 1.1174, -23.113, -0.6144, 1.5217, -0.4545, 0.0, 0.0, 0.0, 0.0, -0.0358, 0.4027, 0.0, -1.5118, -0.0, 0.5984, 0.0, 0.0, -0.0047, 0.0, 0.0, -1.8836, -0.1056, 0.4149, 0.0, 0.0, 0.0397, -143.4543, 0.1139, -0.0, -15.3257, -2.343, -10.2927, -8.8948, -0.0, 0.2331, 0.0, 0.0, -0.7988, 0.7361, -3.4538, -0.6312, 0.3916, 0.0, 5.7015, 1.241, -0.0, 1.01, 0.0, -0.0583, 0.0, 0.0, 0.0, -1.234, 0.5693, 0.0, 0.0, 0.0, -0.109, 11.5876, 0.0, 0.0, 0.0, 0.0, -0.0, 0.03, 0.5785, 0.0, 0.0, 0.0, 0.0, 0.478, 0.0, -0.4773, -0.5979, -0.7997, 0.0, 0.6544, 4.5932, -1.068, -0.0, 0.0, 0.0, 2.9141, 4.076, 0.0, -3.3364, 0.0, 2.0374, 0.0, -0.4398, 0.0, 0.7222, -0.7413, 0.1487, 2.4981, 7.6338, 0.0, -0.5008, 0.2764, -0.0939, 33.5507, 0.0, -0.0409, -2.2122, 0.2821, 0.4733, 0.9025, -0.3723, 0.0, -7.8186, -0.9505, -4.175, 0.0, 7.3062, 0.0, 0.0, 0.6966, 16.4148, 0.0, 0.0, -1.8054, 0.0, 0.0, -0.0, 0.7141, -15.3109, 0.0, 0.0, 0.4232, -0.0, -1.5228, 0.1365, 22.0827, 0.0, 0.0, 0.0483, -0.2655, -5.2616, -0.0693, 0.2802, 0.0, 2.5296, 0.0, 0.1389, -0.2228, 17.5567, -0.4786, 1.0939, 7.0148, 11.7279, 1.4712, 0.7786, 0.0, -0.3386, 0.0, -4.1204, 0.6715, 0.0, -0.1691, -0.1303, 0.7007, 0.0843, 0.0, 0.0, 0.0046, -0.2409, -1.697, 0.0232, 0.0, 1.8998, -7.9641, -0.7931, -0.1835, 147.2609, 0.0, -2.1236, 0.0, 0.0, 0.0, -0.32, -9.8125, 0.0, -0.0823, 0.9941, -0.946, 0.2305, -0.3842, 3.6769, 0.0, 0.0, 0.0553, -0.8357, 0.719, 0.0657, -1.7015, -0.9146, 0.3242, 8.5003, 19.8133, 0.0654, -0.3182, -1.2567, -7.9352, 18.8334, -0.658, -1.5467, -0.0582, -0.5025, -2.5163, -0.591, 0.591, -0.0, 0.3519, -0.4697, 11.7699, 4.0658, 4.0658, -0.2337, 1.4458, 0.4199, -7.0753, -0.7104, 3.5559, -5.0036, -1.2942, 1.5015, 2.4067, 2.4067, 10.1745, -13.1699, -13.1699, 0.6171, -4.2428, -0.4843, 0.0, 0.0, 2.4067, 1.0728, -0.0, 0.7061, -0.0038, -7.8626, -0.2127])"
      ]
     },
     "execution_count": 112,
     "metadata": {},
     "output_type": "execute_result"
    }
   ],
   "source": [
    "lr_model.coefficients"
   ]
  },
  {
   "cell_type": "code",
   "execution_count": 113,
   "id": "eae865db-54a1-4706-a5bc-59e1117d7c6d",
   "metadata": {},
   "outputs": [
    {
     "name": "stdout",
     "output_type": "stream",
     "text": [
      "23/01/03 12:26:17 WARN TaskSetManager: Stage 15 contains a task of very large size (1840 KiB). The maximum recommended task size is 1000 KiB.\n"
     ]
    },
    {
     "name": "stderr",
     "output_type": "stream",
     "text": [
      "                                                                                \r"
     ]
    }
   ],
   "source": [
    "training_predictions=lr_model.evaluate(train_model)"
   ]
  },
  {
   "cell_type": "code",
   "execution_count": 114,
   "id": "d16f59a1-8201-402a-a84e-28cc820e76f5",
   "metadata": {},
   "outputs": [
    {
     "data": {
      "text/plain": [
       "0.9999999954481541"
      ]
     },
     "execution_count": 114,
     "metadata": {},
     "output_type": "execute_result"
    }
   ],
   "source": [
    "training_predictions.r2"
   ]
  },
  {
   "cell_type": "code",
   "execution_count": 15,
   "id": "cb263884-f7fb-4868-9394-d4c6d8da799d",
   "metadata": {
    "tags": []
   },
   "outputs": [
    {
     "name": "stdout",
     "output_type": "stream",
     "text": [
      "23/01/03 13:55:54 WARN TaskSetManager: Stage 52 contains a task of very large size (1661 KiB). The maximum recommended task size is 1000 KiB.\n"
     ]
    },
    {
     "name": "stderr",
     "output_type": "stream",
     "text": [
      "                                                                                \r"
     ]
    },
    {
     "name": "stdout",
     "output_type": "stream",
     "text": [
      "23/01/03 13:55:56 WARN TaskSetManager: Stage 54 contains a task of very large size (1661 KiB). The maximum recommended task size is 1000 KiB.\n"
     ]
    },
    {
     "name": "stderr",
     "output_type": "stream",
     "text": [
      "                                                                                \r"
     ]
    },
    {
     "name": "stdout",
     "output_type": "stream",
     "text": [
      "23/01/03 13:55:58 WARN TaskSetManager: Stage 56 contains a task of very large size (1661 KiB). The maximum recommended task size is 1000 KiB.\n"
     ]
    },
    {
     "name": "stderr",
     "output_type": "stream",
     "text": [
      "                                                                                \r"
     ]
    },
    {
     "name": "stdout",
     "output_type": "stream",
     "text": [
      "0.9999959095063032\n",
      "2499.9914565385216\n",
      "23/01/03 13:55:59 WARN TaskSetManager: Stage 58 contains a task of very large size (1661 KiB). The maximum recommended task size is 1000 KiB.\n"
     ]
    },
    {
     "name": "stderr",
     "output_type": "stream",
     "text": [
      "                                                                                \r"
     ]
    },
    {
     "name": "stdout",
     "output_type": "stream",
     "text": [
      "23/01/03 13:56:01 WARN TaskSetManager: Stage 60 contains a task of very large size (1661 KiB). The maximum recommended task size is 1000 KiB.\n"
     ]
    },
    {
     "name": "stderr",
     "output_type": "stream",
     "text": [
      "                                                                                \r"
     ]
    },
    {
     "name": "stdout",
     "output_type": "stream",
     "text": [
      "23/01/03 13:56:03 WARN TaskSetManager: Stage 62 contains a task of very large size (1661 KiB). The maximum recommended task size is 1000 KiB.\n"
     ]
    },
    {
     "name": "stderr",
     "output_type": "stream",
     "text": [
      "                                                                                \r"
     ]
    },
    {
     "name": "stdout",
     "output_type": "stream",
     "text": [
      "0.9999959095063032\n",
      "2499.991456538521\n",
      "23/01/03 13:56:04 WARN TaskSetManager: Stage 64 contains a task of very large size (1661 KiB). The maximum recommended task size is 1000 KiB.\n"
     ]
    },
    {
     "name": "stderr",
     "output_type": "stream",
     "text": [
      "                                                                                \r"
     ]
    },
    {
     "name": "stdout",
     "output_type": "stream",
     "text": [
      "23/01/03 13:56:06 WARN TaskSetManager: Stage 66 contains a task of very large size (1661 KiB). The maximum recommended task size is 1000 KiB.\n"
     ]
    },
    {
     "name": "stderr",
     "output_type": "stream",
     "text": [
      "                                                                                \r"
     ]
    },
    {
     "name": "stdout",
     "output_type": "stream",
     "text": [
      "23/01/03 13:56:08 WARN TaskSetManager: Stage 68 contains a task of very large size (1661 KiB). The maximum recommended task size is 1000 KiB.\n"
     ]
    },
    {
     "name": "stderr",
     "output_type": "stream",
     "text": [
      "                                                                                \r"
     ]
    },
    {
     "name": "stdout",
     "output_type": "stream",
     "text": [
      "0.9999959095063032\n",
      "2499.991456538521\n",
      "23/01/03 13:56:09 WARN TaskSetManager: Stage 70 contains a task of very large size (1661 KiB). The maximum recommended task size is 1000 KiB.\n"
     ]
    },
    {
     "name": "stderr",
     "output_type": "stream",
     "text": [
      "                                                                                \r"
     ]
    },
    {
     "name": "stdout",
     "output_type": "stream",
     "text": [
      "23/01/03 13:56:11 WARN TaskSetManager: Stage 72 contains a task of very large size (1661 KiB). The maximum recommended task size is 1000 KiB.\n"
     ]
    },
    {
     "name": "stderr",
     "output_type": "stream",
     "text": [
      "                                                                                \r"
     ]
    },
    {
     "name": "stdout",
     "output_type": "stream",
     "text": [
      "23/01/03 13:56:13 WARN TaskSetManager: Stage 74 contains a task of very large size (1661 KiB). The maximum recommended task size is 1000 KiB.\n"
     ]
    },
    {
     "name": "stderr",
     "output_type": "stream",
     "text": [
      "                                                                                \r"
     ]
    },
    {
     "name": "stdout",
     "output_type": "stream",
     "text": [
      "0.9999959095063032\n",
      "2499.9914565385216\n",
      "23/01/03 13:56:14 WARN TaskSetManager: Stage 76 contains a task of very large size (1661 KiB). The maximum recommended task size is 1000 KiB.\n"
     ]
    },
    {
     "name": "stderr",
     "output_type": "stream",
     "text": [
      "                                                                                \r"
     ]
    },
    {
     "name": "stdout",
     "output_type": "stream",
     "text": [
      "23/01/03 13:56:16 WARN TaskSetManager: Stage 78 contains a task of very large size (1661 KiB). The maximum recommended task size is 1000 KiB.\n"
     ]
    },
    {
     "name": "stderr",
     "output_type": "stream",
     "text": [
      "                                                                                \r"
     ]
    },
    {
     "name": "stdout",
     "output_type": "stream",
     "text": [
      "23/01/03 13:56:17 WARN TaskSetManager: Stage 80 contains a task of very large size (1661 KiB). The maximum recommended task size is 1000 KiB.\n"
     ]
    },
    {
     "name": "stderr",
     "output_type": "stream",
     "text": [
      "                                                                                \r"
     ]
    },
    {
     "name": "stdout",
     "output_type": "stream",
     "text": [
      "0.9999959095063032\n",
      "2499.9914565385216\n",
      "23/01/03 13:56:19 WARN TaskSetManager: Stage 82 contains a task of very large size (1661 KiB). The maximum recommended task size is 1000 KiB.\n"
     ]
    },
    {
     "name": "stderr",
     "output_type": "stream",
     "text": [
      "                                                                                \r"
     ]
    },
    {
     "name": "stdout",
     "output_type": "stream",
     "text": [
      "23/01/03 13:56:20 WARN TaskSetManager: Stage 84 contains a task of very large size (1661 KiB). The maximum recommended task size is 1000 KiB.\n"
     ]
    },
    {
     "name": "stderr",
     "output_type": "stream",
     "text": [
      "                                                                                \r"
     ]
    },
    {
     "name": "stdout",
     "output_type": "stream",
     "text": [
      "23/01/03 13:56:22 WARN TaskSetManager: Stage 86 contains a task of very large size (1661 KiB). The maximum recommended task size is 1000 KiB.\n"
     ]
    },
    {
     "name": "stderr",
     "output_type": "stream",
     "text": [
      "                                                                                \r"
     ]
    },
    {
     "name": "stdout",
     "output_type": "stream",
     "text": [
      "0.9999959095063032\n",
      "2499.9914565385216\n",
      "23/01/03 13:56:24 WARN TaskSetManager: Stage 88 contains a task of very large size (1661 KiB). The maximum recommended task size is 1000 KiB.\n"
     ]
    },
    {
     "name": "stderr",
     "output_type": "stream",
     "text": [
      "                                                                                \r"
     ]
    },
    {
     "name": "stdout",
     "output_type": "stream",
     "text": [
      "23/01/03 13:56:25 WARN TaskSetManager: Stage 90 contains a task of very large size (1661 KiB). The maximum recommended task size is 1000 KiB.\n"
     ]
    },
    {
     "name": "stderr",
     "output_type": "stream",
     "text": [
      "                                                                                \r"
     ]
    },
    {
     "name": "stdout",
     "output_type": "stream",
     "text": [
      "23/01/03 13:56:27 WARN TaskSetManager: Stage 92 contains a task of very large size (1661 KiB). The maximum recommended task size is 1000 KiB.\n"
     ]
    },
    {
     "name": "stderr",
     "output_type": "stream",
     "text": [
      "                                                                                \r"
     ]
    },
    {
     "name": "stdout",
     "output_type": "stream",
     "text": [
      "0.9999959095063032\n",
      "2499.991456538521\n",
      "23/01/03 13:56:28 WARN TaskSetManager: Stage 94 contains a task of very large size (1661 KiB). The maximum recommended task size is 1000 KiB.\n"
     ]
    },
    {
     "name": "stderr",
     "output_type": "stream",
     "text": [
      "                                                                                \r"
     ]
    },
    {
     "name": "stdout",
     "output_type": "stream",
     "text": [
      "23/01/03 13:56:30 WARN TaskSetManager: Stage 96 contains a task of very large size (1661 KiB). The maximum recommended task size is 1000 KiB.\n"
     ]
    },
    {
     "name": "stderr",
     "output_type": "stream",
     "text": [
      "                                                                                \r"
     ]
    },
    {
     "name": "stdout",
     "output_type": "stream",
     "text": [
      "23/01/03 13:56:31 WARN TaskSetManager: Stage 98 contains a task of very large size (1661 KiB). The maximum recommended task size is 1000 KiB.\n"
     ]
    },
    {
     "name": "stderr",
     "output_type": "stream",
     "text": [
      "[Stage 98:======================================>                (56 + 24) / 80]\r"
     ]
    },
    {
     "name": "stdout",
     "output_type": "stream",
     "text": [
      "0.9999959095063032\n",
      "2499.9914565385216\n",
      "4.74 s ± 211 ms per loop (mean ± std. dev. of 7 runs, 1 loop each)\n"
     ]
    },
    {
     "name": "stderr",
     "output_type": "stream",
     "text": [
      "                                                                                \r"
     ]
    }
   ],
   "source": [
    "%%timeit\n",
    "lin_Reg=LinearRegression(labelCol='label', elasticNetParam=1 , regParam=50 ,maxIter=200000)\n",
    "lr_model=lin_Reg.fit(train_model)\n",
    "# print(lr_model.intercept)\n",
    "# print(lr_model.coefficients)\n",
    "training_predictions=lr_model.evaluate(train_model)\n"
   ]
  },
  {
   "cell_type": "code",
   "execution_count": 10,
   "id": "cea87f36-7493-4a19-958f-62554eb5f9b3",
   "metadata": {
    "collapsed": true,
    "jupyter": {
     "outputs_hidden": true
    },
    "tags": []
   },
   "outputs": [
    {
     "name": "stdout",
     "output_type": "stream",
     "text": [
      "23/01/04 07:37:46 WARN TaskSetManager: Stage 2 contains a task of very large size (1661 KiB). The maximum recommended task size is 1000 KiB.\n"
     ]
    },
    {
     "name": "stderr",
     "output_type": "stream",
     "text": [
      "                                                                                \r"
     ]
    },
    {
     "name": "stdout",
     "output_type": "stream",
     "text": [
      "23/01/04 07:37:48 WARN TaskSetManager: Stage 3 contains a task of very large size (1661 KiB). The maximum recommended task size is 1000 KiB.\n"
     ]
    },
    {
     "name": "stderr",
     "output_type": "stream",
     "text": [
      "                                                                                \r"
     ]
    },
    {
     "name": "stdout",
     "output_type": "stream",
     "text": [
      "23/01/04 07:37:56 WARN TaskSetManager: Stage 4 contains a task of very large size (1661 KiB). The maximum recommended task size is 1000 KiB.\n"
     ]
    },
    {
     "name": "stderr",
     "output_type": "stream",
     "text": [
      "                                                                                \r"
     ]
    },
    {
     "name": "stdout",
     "output_type": "stream",
     "text": [
      "23/01/04 07:38:00 WARN TaskSetManager: Stage 6 contains a task of very large size (1661 KiB). The maximum recommended task size is 1000 KiB.\n"
     ]
    },
    {
     "name": "stderr",
     "output_type": "stream",
     "text": [
      "                                                                                \r"
     ]
    },
    {
     "name": "stdout",
     "output_type": "stream",
     "text": [
      "23/01/04 07:38:02 WARN TaskSetManager: Stage 8 contains a task of very large size (1661 KiB). The maximum recommended task size is 1000 KiB.\n"
     ]
    },
    {
     "name": "stderr",
     "output_type": "stream",
     "text": [
      "                                                                                \r"
     ]
    },
    {
     "name": "stdout",
     "output_type": "stream",
     "text": [
      "23/01/04 07:38:04 WARN TaskSetManager: Stage 10 contains a task of very large size (1661 KiB). The maximum recommended task size is 1000 KiB.\n"
     ]
    },
    {
     "name": "stderr",
     "output_type": "stream",
     "text": [
      "                                                                                \r"
     ]
    },
    {
     "name": "stdout",
     "output_type": "stream",
     "text": [
      "23/01/04 07:38:06 WARN TaskSetManager: Stage 12 contains a task of very large size (1661 KiB). The maximum recommended task size is 1000 KiB.\n"
     ]
    },
    {
     "name": "stderr",
     "output_type": "stream",
     "text": [
      "                                                                                \r"
     ]
    },
    {
     "name": "stdout",
     "output_type": "stream",
     "text": [
      "23/01/04 07:38:07 WARN TaskSetManager: Stage 14 contains a task of very large size (1661 KiB). The maximum recommended task size is 1000 KiB.\n"
     ]
    },
    {
     "name": "stderr",
     "output_type": "stream",
     "text": [
      "                                                                                \r"
     ]
    },
    {
     "name": "stdout",
     "output_type": "stream",
     "text": [
      "23/01/04 07:38:09 WARN DAGScheduler: Broadcasting large task binary with size 1059.3 KiB\n",
      "23/01/04 07:38:09 WARN TaskSetManager: Stage 16 contains a task of very large size (1661 KiB). The maximum recommended task size is 1000 KiB.\n"
     ]
    },
    {
     "name": "stderr",
     "output_type": "stream",
     "text": [
      "                                                                                \r"
     ]
    },
    {
     "name": "stdout",
     "output_type": "stream",
     "text": [
      "23/01/04 07:38:11 WARN DAGScheduler: Broadcasting large task binary with size 1520.1 KiB\n",
      "23/01/04 07:38:11 WARN TaskSetManager: Stage 18 contains a task of very large size (1661 KiB). The maximum recommended task size is 1000 KiB.\n"
     ]
    },
    {
     "name": "stderr",
     "output_type": "stream",
     "text": [
      "                                                                                \r"
     ]
    },
    {
     "name": "stdout",
     "output_type": "stream",
     "text": [
      "23/01/04 07:38:13 WARN DAGScheduler: Broadcasting large task binary with size 2.1 MiB\n",
      "23/01/04 07:38:13 WARN TaskSetManager: Stage 20 contains a task of very large size (1661 KiB). The maximum recommended task size is 1000 KiB.\n"
     ]
    },
    {
     "name": "stderr",
     "output_type": "stream",
     "text": [
      "                                                                                \r"
     ]
    },
    {
     "name": "stdout",
     "output_type": "stream",
     "text": [
      "23/01/04 07:38:16 WARN DAGScheduler: Broadcasting large task binary with size 2.9 MiB\n",
      "23/01/04 07:38:16 WARN TaskSetManager: Stage 22 contains a task of very large size (1661 KiB). The maximum recommended task size is 1000 KiB.\n"
     ]
    },
    {
     "name": "stderr",
     "output_type": "stream",
     "text": [
      "                                                                                \r"
     ]
    },
    {
     "name": "stdout",
     "output_type": "stream",
     "text": [
      "23/01/04 07:38:18 WARN DAGScheduler: Broadcasting large task binary with size 3.9 MiB\n",
      "23/01/04 07:38:18 WARN TaskSetManager: Stage 24 contains a task of very large size (1661 KiB). The maximum recommended task size is 1000 KiB.\n"
     ]
    },
    {
     "name": "stderr",
     "output_type": "stream",
     "text": [
      "                                                                                \r"
     ]
    },
    {
     "name": "stdout",
     "output_type": "stream",
     "text": [
      "23/01/04 07:38:21 WARN DAGScheduler: Broadcasting large task binary with size 5.1 MiB\n",
      "23/01/04 07:38:21 WARN TaskSetManager: Stage 26 contains a task of very large size (1661 KiB). The maximum recommended task size is 1000 KiB.\n"
     ]
    },
    {
     "name": "stderr",
     "output_type": "stream",
     "text": [
      "                                                                                \r"
     ]
    },
    {
     "name": "stdout",
     "output_type": "stream",
     "text": [
      "23/01/04 07:38:24 WARN DAGScheduler: Broadcasting large task binary with size 6.3 MiB\n",
      "23/01/04 07:38:24 WARN TaskSetManager: Stage 28 contains a task of very large size (1661 KiB). The maximum recommended task size is 1000 KiB.\n"
     ]
    },
    {
     "name": "stderr",
     "output_type": "stream",
     "text": [
      "                                                                                \r"
     ]
    },
    {
     "name": "stdout",
     "output_type": "stream",
     "text": [
      "23/01/04 07:38:28 WARN DAGScheduler: Broadcasting large task binary with size 7.6 MiB\n",
      "23/01/04 07:38:28 WARN TaskSetManager: Stage 30 contains a task of very large size (1661 KiB). The maximum recommended task size is 1000 KiB.\n"
     ]
    },
    {
     "name": "stderr",
     "output_type": "stream",
     "text": [
      "                                                                                \r"
     ]
    },
    {
     "name": "stdout",
     "output_type": "stream",
     "text": [
      "23/01/04 07:38:32 WARN DAGScheduler: Broadcasting large task binary with size 8.6 MiB\n",
      "23/01/04 07:38:32 WARN TaskSetManager: Stage 32 contains a task of very large size (1661 KiB). The maximum recommended task size is 1000 KiB.\n"
     ]
    },
    {
     "name": "stderr",
     "output_type": "stream",
     "text": [
      "                                                                                \r"
     ]
    },
    {
     "name": "stdout",
     "output_type": "stream",
     "text": [
      "23/01/04 07:38:36 WARN DAGScheduler: Broadcasting large task binary with size 9.6 MiB\n",
      "23/01/04 07:38:36 WARN TaskSetManager: Stage 34 contains a task of very large size (1661 KiB). The maximum recommended task size is 1000 KiB.\n"
     ]
    },
    {
     "name": "stderr",
     "output_type": "stream",
     "text": [
      "                                                                                \r"
     ]
    },
    {
     "name": "stdout",
     "output_type": "stream",
     "text": [
      "23/01/04 07:38:39 WARN DAGScheduler: Broadcasting large task binary with size 10.4 MiB\n",
      "23/01/04 07:38:40 WARN TaskSetManager: Stage 36 contains a task of very large size (1661 KiB). The maximum recommended task size is 1000 KiB.\n"
     ]
    },
    {
     "name": "stderr",
     "output_type": "stream",
     "text": [
      "                                                                                \r"
     ]
    },
    {
     "name": "stdout",
     "output_type": "stream",
     "text": [
      "23/01/04 07:38:44 WARN DAGScheduler: Broadcasting large task binary with size 11.1 MiB\n",
      "23/01/04 07:38:44 WARN TaskSetManager: Stage 38 contains a task of very large size (1661 KiB). The maximum recommended task size is 1000 KiB.\n"
     ]
    },
    {
     "name": "stderr",
     "output_type": "stream",
     "text": [
      "                                                                                \r"
     ]
    },
    {
     "name": "stdout",
     "output_type": "stream",
     "text": [
      "23/01/04 07:38:47 WARN DAGScheduler: Broadcasting large task binary with size 11.7 MiB\n",
      "23/01/04 07:38:47 WARN TaskSetManager: Stage 40 contains a task of very large size (1661 KiB). The maximum recommended task size is 1000 KiB.\n"
     ]
    },
    {
     "name": "stderr",
     "output_type": "stream",
     "text": [
      "                                                                                \r"
     ]
    },
    {
     "name": "stdout",
     "output_type": "stream",
     "text": [
      "23/01/04 07:38:51 WARN DAGScheduler: Broadcasting large task binary with size 12.1 MiB\n",
      "23/01/04 07:38:51 WARN TaskSetManager: Stage 42 contains a task of very large size (1661 KiB). The maximum recommended task size is 1000 KiB.\n"
     ]
    },
    {
     "name": "stderr",
     "output_type": "stream",
     "text": [
      "                                                                                \r"
     ]
    },
    {
     "name": "stdout",
     "output_type": "stream",
     "text": [
      "23/01/04 07:38:54 WARN DAGScheduler: Broadcasting large task binary with size 12.4 MiB\n",
      "23/01/04 07:38:54 WARN TaskSetManager: Stage 44 contains a task of very large size (1661 KiB). The maximum recommended task size is 1000 KiB.\n"
     ]
    },
    {
     "name": "stderr",
     "output_type": "stream",
     "text": [
      "                                                                                \r"
     ]
    },
    {
     "name": "stdout",
     "output_type": "stream",
     "text": [
      "0.9644943303264242\n",
      "31061420.50576415\n",
      "23/01/04 07:39:00 WARN TaskSetManager: Stage 50 contains a task of very large size (1661 KiB). The maximum recommended task size is 1000 KiB.\n",
      "23/01/04 07:39:00 WARN TaskSetManager: Stage 51 contains a task of very large size (1661 KiB). The maximum recommended task size is 1000 KiB.\n"
     ]
    },
    {
     "name": "stderr",
     "output_type": "stream",
     "text": [
      "                                                                                \r"
     ]
    },
    {
     "name": "stdout",
     "output_type": "stream",
     "text": [
      "23/01/04 07:39:02 WARN TaskSetManager: Stage 52 contains a task of very large size (1661 KiB). The maximum recommended task size is 1000 KiB.\n"
     ]
    },
    {
     "name": "stderr",
     "output_type": "stream",
     "text": [
      "                                                                                \r"
     ]
    },
    {
     "name": "stdout",
     "output_type": "stream",
     "text": [
      "23/01/04 07:39:03 WARN TaskSetManager: Stage 54 contains a task of very large size (1661 KiB). The maximum recommended task size is 1000 KiB.\n"
     ]
    },
    {
     "name": "stderr",
     "output_type": "stream",
     "text": [
      "                                                                                \r"
     ]
    },
    {
     "name": "stdout",
     "output_type": "stream",
     "text": [
      "23/01/04 07:39:05 WARN TaskSetManager: Stage 56 contains a task of very large size (1661 KiB). The maximum recommended task size is 1000 KiB.\n"
     ]
    },
    {
     "name": "stderr",
     "output_type": "stream",
     "text": [
      "                                                                                \r"
     ]
    },
    {
     "name": "stdout",
     "output_type": "stream",
     "text": [
      "23/01/04 07:39:07 WARN TaskSetManager: Stage 58 contains a task of very large size (1661 KiB). The maximum recommended task size is 1000 KiB.\n"
     ]
    },
    {
     "name": "stderr",
     "output_type": "stream",
     "text": [
      "                                                                                \r"
     ]
    },
    {
     "name": "stdout",
     "output_type": "stream",
     "text": [
      "23/01/04 07:39:08 WARN TaskSetManager: Stage 60 contains a task of very large size (1661 KiB). The maximum recommended task size is 1000 KiB.\n"
     ]
    },
    {
     "name": "stderr",
     "output_type": "stream",
     "text": [
      "                                                                                \r"
     ]
    },
    {
     "name": "stdout",
     "output_type": "stream",
     "text": [
      "23/01/04 07:39:09 WARN TaskSetManager: Stage 62 contains a task of very large size (1661 KiB). The maximum recommended task size is 1000 KiB.\n"
     ]
    },
    {
     "name": "stderr",
     "output_type": "stream",
     "text": [
      "                                                                                \r"
     ]
    },
    {
     "name": "stdout",
     "output_type": "stream",
     "text": [
      "23/01/04 07:39:11 WARN DAGScheduler: Broadcasting large task binary with size 1059.3 KiB\n",
      "23/01/04 07:39:11 WARN TaskSetManager: Stage 64 contains a task of very large size (1661 KiB). The maximum recommended task size is 1000 KiB.\n"
     ]
    },
    {
     "name": "stderr",
     "output_type": "stream",
     "text": [
      "                                                                                \r"
     ]
    },
    {
     "name": "stdout",
     "output_type": "stream",
     "text": [
      "23/01/04 07:39:13 WARN DAGScheduler: Broadcasting large task binary with size 1520.1 KiB\n",
      "23/01/04 07:39:13 WARN TaskSetManager: Stage 66 contains a task of very large size (1661 KiB). The maximum recommended task size is 1000 KiB.\n"
     ]
    },
    {
     "name": "stderr",
     "output_type": "stream",
     "text": [
      "                                                                                \r"
     ]
    },
    {
     "name": "stdout",
     "output_type": "stream",
     "text": [
      "23/01/04 07:39:15 WARN DAGScheduler: Broadcasting large task binary with size 2.1 MiB\n",
      "23/01/04 07:39:15 WARN TaskSetManager: Stage 68 contains a task of very large size (1661 KiB). The maximum recommended task size is 1000 KiB.\n"
     ]
    },
    {
     "name": "stderr",
     "output_type": "stream",
     "text": [
      "                                                                                \r"
     ]
    },
    {
     "name": "stdout",
     "output_type": "stream",
     "text": [
      "23/01/04 07:39:18 WARN DAGScheduler: Broadcasting large task binary with size 2.9 MiB\n",
      "23/01/04 07:39:18 WARN TaskSetManager: Stage 70 contains a task of very large size (1661 KiB). The maximum recommended task size is 1000 KiB.\n"
     ]
    },
    {
     "name": "stderr",
     "output_type": "stream",
     "text": [
      "                                                                                \r"
     ]
    },
    {
     "name": "stdout",
     "output_type": "stream",
     "text": [
      "23/01/04 07:39:20 WARN DAGScheduler: Broadcasting large task binary with size 3.9 MiB\n",
      "23/01/04 07:39:20 WARN TaskSetManager: Stage 72 contains a task of very large size (1661 KiB). The maximum recommended task size is 1000 KiB.\n"
     ]
    },
    {
     "name": "stderr",
     "output_type": "stream",
     "text": [
      "                                                                                \r"
     ]
    },
    {
     "name": "stdout",
     "output_type": "stream",
     "text": [
      "23/01/04 07:39:23 WARN DAGScheduler: Broadcasting large task binary with size 5.1 MiB\n",
      "23/01/04 07:39:23 WARN TaskSetManager: Stage 74 contains a task of very large size (1661 KiB). The maximum recommended task size is 1000 KiB.\n"
     ]
    },
    {
     "name": "stderr",
     "output_type": "stream",
     "text": [
      "                                                                                \r"
     ]
    },
    {
     "name": "stdout",
     "output_type": "stream",
     "text": [
      "23/01/04 07:39:26 WARN DAGScheduler: Broadcasting large task binary with size 6.3 MiB\n",
      "23/01/04 07:39:26 WARN TaskSetManager: Stage 76 contains a task of very large size (1661 KiB). The maximum recommended task size is 1000 KiB.\n"
     ]
    },
    {
     "name": "stderr",
     "output_type": "stream",
     "text": [
      "                                                                                \r"
     ]
    },
    {
     "name": "stdout",
     "output_type": "stream",
     "text": [
      "23/01/04 07:39:29 WARN DAGScheduler: Broadcasting large task binary with size 7.6 MiB\n",
      "23/01/04 07:39:29 WARN TaskSetManager: Stage 78 contains a task of very large size (1661 KiB). The maximum recommended task size is 1000 KiB.\n"
     ]
    },
    {
     "name": "stderr",
     "output_type": "stream",
     "text": [
      "                                                                                \r"
     ]
    },
    {
     "name": "stdout",
     "output_type": "stream",
     "text": [
      "23/01/04 07:39:33 WARN DAGScheduler: Broadcasting large task binary with size 8.6 MiB\n",
      "23/01/04 07:39:33 WARN TaskSetManager: Stage 80 contains a task of very large size (1661 KiB). The maximum recommended task size is 1000 KiB.\n"
     ]
    },
    {
     "name": "stderr",
     "output_type": "stream",
     "text": [
      "                                                                                \r"
     ]
    },
    {
     "name": "stdout",
     "output_type": "stream",
     "text": [
      "23/01/04 07:39:36 WARN DAGScheduler: Broadcasting large task binary with size 9.6 MiB\n",
      "23/01/04 07:39:36 WARN TaskSetManager: Stage 82 contains a task of very large size (1661 KiB). The maximum recommended task size is 1000 KiB.\n"
     ]
    },
    {
     "name": "stderr",
     "output_type": "stream",
     "text": [
      "                                                                                \r"
     ]
    },
    {
     "name": "stdout",
     "output_type": "stream",
     "text": [
      "23/01/04 07:39:40 WARN DAGScheduler: Broadcasting large task binary with size 10.4 MiB\n",
      "23/01/04 07:39:40 WARN TaskSetManager: Stage 84 contains a task of very large size (1661 KiB). The maximum recommended task size is 1000 KiB.\n"
     ]
    },
    {
     "name": "stderr",
     "output_type": "stream",
     "text": [
      "                                                                                \r"
     ]
    },
    {
     "name": "stdout",
     "output_type": "stream",
     "text": [
      "23/01/04 07:39:43 WARN DAGScheduler: Broadcasting large task binary with size 11.1 MiB\n",
      "23/01/04 07:39:43 WARN TaskSetManager: Stage 86 contains a task of very large size (1661 KiB). The maximum recommended task size is 1000 KiB.\n"
     ]
    },
    {
     "name": "stderr",
     "output_type": "stream",
     "text": [
      "                                                                                \r"
     ]
    },
    {
     "name": "stdout",
     "output_type": "stream",
     "text": [
      "23/01/04 07:39:47 WARN DAGScheduler: Broadcasting large task binary with size 11.7 MiB\n",
      "23/01/04 07:39:47 WARN TaskSetManager: Stage 88 contains a task of very large size (1661 KiB). The maximum recommended task size is 1000 KiB.\n"
     ]
    },
    {
     "name": "stderr",
     "output_type": "stream",
     "text": [
      "                                                                                \r"
     ]
    },
    {
     "name": "stdout",
     "output_type": "stream",
     "text": [
      "23/01/04 07:39:51 WARN DAGScheduler: Broadcasting large task binary with size 12.1 MiB\n",
      "23/01/04 07:39:51 WARN TaskSetManager: Stage 90 contains a task of very large size (1661 KiB). The maximum recommended task size is 1000 KiB.\n"
     ]
    },
    {
     "name": "stderr",
     "output_type": "stream",
     "text": [
      "                                                                                \r"
     ]
    },
    {
     "name": "stdout",
     "output_type": "stream",
     "text": [
      "23/01/04 07:39:54 WARN DAGScheduler: Broadcasting large task binary with size 12.4 MiB\n",
      "23/01/04 07:39:54 WARN TaskSetManager: Stage 92 contains a task of very large size (1661 KiB). The maximum recommended task size is 1000 KiB.\n"
     ]
    },
    {
     "name": "stderr",
     "output_type": "stream",
     "text": [
      "                                                                                \r"
     ]
    },
    {
     "name": "stdout",
     "output_type": "stream",
     "text": [
      "0.9644943303264242\n",
      "31061420.50576415\n",
      "23/01/04 07:39:59 WARN TaskSetManager: Stage 98 contains a task of very large size (1661 KiB). The maximum recommended task size is 1000 KiB.\n",
      "23/01/04 07:39:59 WARN TaskSetManager: Stage 99 contains a task of very large size (1661 KiB). The maximum recommended task size is 1000 KiB.\n"
     ]
    },
    {
     "name": "stderr",
     "output_type": "stream",
     "text": [
      "                                                                                \r"
     ]
    },
    {
     "name": "stdout",
     "output_type": "stream",
     "text": [
      "23/01/04 07:40:01 WARN TaskSetManager: Stage 100 contains a task of very large size (1661 KiB). The maximum recommended task size is 1000 KiB.\n"
     ]
    },
    {
     "name": "stderr",
     "output_type": "stream",
     "text": [
      "                                                                                \r"
     ]
    },
    {
     "name": "stdout",
     "output_type": "stream",
     "text": [
      "23/01/04 07:40:03 WARN TaskSetManager: Stage 102 contains a task of very large size (1661 KiB). The maximum recommended task size is 1000 KiB.\n"
     ]
    },
    {
     "name": "stderr",
     "output_type": "stream",
     "text": [
      "                                                                                \r"
     ]
    },
    {
     "name": "stdout",
     "output_type": "stream",
     "text": [
      "23/01/04 07:40:04 WARN TaskSetManager: Stage 104 contains a task of very large size (1661 KiB). The maximum recommended task size is 1000 KiB.\n"
     ]
    },
    {
     "name": "stderr",
     "output_type": "stream",
     "text": [
      "                                                                                \r"
     ]
    },
    {
     "name": "stdout",
     "output_type": "stream",
     "text": [
      "23/01/04 07:40:06 WARN TaskSetManager: Stage 106 contains a task of very large size (1661 KiB). The maximum recommended task size is 1000 KiB.\n"
     ]
    },
    {
     "name": "stderr",
     "output_type": "stream",
     "text": [
      "                                                                                \r"
     ]
    },
    {
     "name": "stdout",
     "output_type": "stream",
     "text": [
      "23/01/04 07:40:07 WARN TaskSetManager: Stage 108 contains a task of very large size (1661 KiB). The maximum recommended task size is 1000 KiB.\n"
     ]
    },
    {
     "name": "stderr",
     "output_type": "stream",
     "text": [
      "                                                                                \r"
     ]
    },
    {
     "name": "stdout",
     "output_type": "stream",
     "text": [
      "23/01/04 07:40:09 WARN TaskSetManager: Stage 110 contains a task of very large size (1661 KiB). The maximum recommended task size is 1000 KiB.\n"
     ]
    },
    {
     "name": "stderr",
     "output_type": "stream",
     "text": [
      "                                                                                \r"
     ]
    },
    {
     "name": "stdout",
     "output_type": "stream",
     "text": [
      "23/01/04 07:40:10 WARN DAGScheduler: Broadcasting large task binary with size 1059.3 KiB\n",
      "23/01/04 07:40:10 WARN TaskSetManager: Stage 112 contains a task of very large size (1661 KiB). The maximum recommended task size is 1000 KiB.\n"
     ]
    },
    {
     "name": "stderr",
     "output_type": "stream",
     "text": [
      "                                                                                \r"
     ]
    },
    {
     "name": "stdout",
     "output_type": "stream",
     "text": [
      "23/01/04 07:40:12 WARN DAGScheduler: Broadcasting large task binary with size 1520.1 KiB\n",
      "23/01/04 07:40:12 WARN TaskSetManager: Stage 114 contains a task of very large size (1661 KiB). The maximum recommended task size is 1000 KiB.\n"
     ]
    },
    {
     "name": "stderr",
     "output_type": "stream",
     "text": [
      "                                                                                \r"
     ]
    },
    {
     "name": "stdout",
     "output_type": "stream",
     "text": [
      "23/01/04 07:40:14 WARN DAGScheduler: Broadcasting large task binary with size 2.1 MiB\n",
      "23/01/04 07:40:14 WARN TaskSetManager: Stage 116 contains a task of very large size (1661 KiB). The maximum recommended task size is 1000 KiB.\n"
     ]
    },
    {
     "name": "stderr",
     "output_type": "stream",
     "text": [
      "                                                                                \r"
     ]
    },
    {
     "name": "stdout",
     "output_type": "stream",
     "text": [
      "23/01/04 07:40:16 WARN DAGScheduler: Broadcasting large task binary with size 2.9 MiB\n",
      "23/01/04 07:40:16 WARN TaskSetManager: Stage 118 contains a task of very large size (1661 KiB). The maximum recommended task size is 1000 KiB.\n"
     ]
    },
    {
     "name": "stderr",
     "output_type": "stream",
     "text": [
      "                                                                                \r"
     ]
    },
    {
     "name": "stdout",
     "output_type": "stream",
     "text": [
      "23/01/04 07:40:18 WARN DAGScheduler: Broadcasting large task binary with size 3.9 MiB\n",
      "23/01/04 07:40:18 WARN TaskSetManager: Stage 120 contains a task of very large size (1661 KiB). The maximum recommended task size is 1000 KiB.\n"
     ]
    },
    {
     "name": "stderr",
     "output_type": "stream",
     "text": [
      "                                                                                \r"
     ]
    },
    {
     "name": "stdout",
     "output_type": "stream",
     "text": [
      "23/01/04 07:40:22 WARN DAGScheduler: Broadcasting large task binary with size 5.1 MiB\n",
      "23/01/04 07:40:22 WARN TaskSetManager: Stage 122 contains a task of very large size (1661 KiB). The maximum recommended task size is 1000 KiB.\n"
     ]
    },
    {
     "name": "stderr",
     "output_type": "stream",
     "text": [
      "                                                                                \r"
     ]
    },
    {
     "name": "stdout",
     "output_type": "stream",
     "text": [
      "23/01/04 07:40:24 WARN DAGScheduler: Broadcasting large task binary with size 6.3 MiB\n",
      "23/01/04 07:40:24 WARN TaskSetManager: Stage 124 contains a task of very large size (1661 KiB). The maximum recommended task size is 1000 KiB.\n"
     ]
    },
    {
     "name": "stderr",
     "output_type": "stream",
     "text": [
      "                                                                                \r"
     ]
    },
    {
     "name": "stdout",
     "output_type": "stream",
     "text": [
      "23/01/04 07:40:28 WARN DAGScheduler: Broadcasting large task binary with size 7.6 MiB\n",
      "23/01/04 07:40:28 WARN TaskSetManager: Stage 126 contains a task of very large size (1661 KiB). The maximum recommended task size is 1000 KiB.\n"
     ]
    },
    {
     "name": "stderr",
     "output_type": "stream",
     "text": [
      "                                                                                \r"
     ]
    },
    {
     "name": "stdout",
     "output_type": "stream",
     "text": [
      "23/01/04 07:40:31 WARN DAGScheduler: Broadcasting large task binary with size 8.6 MiB\n",
      "23/01/04 07:40:31 WARN TaskSetManager: Stage 128 contains a task of very large size (1661 KiB). The maximum recommended task size is 1000 KiB.\n"
     ]
    },
    {
     "name": "stderr",
     "output_type": "stream",
     "text": [
      "                                                                                \r"
     ]
    },
    {
     "name": "stdout",
     "output_type": "stream",
     "text": [
      "23/01/04 07:40:35 WARN DAGScheduler: Broadcasting large task binary with size 9.6 MiB\n",
      "23/01/04 07:40:35 WARN TaskSetManager: Stage 130 contains a task of very large size (1661 KiB). The maximum recommended task size is 1000 KiB.\n"
     ]
    },
    {
     "name": "stderr",
     "output_type": "stream",
     "text": [
      "                                                                                \r"
     ]
    },
    {
     "name": "stdout",
     "output_type": "stream",
     "text": [
      "23/01/04 07:40:38 WARN DAGScheduler: Broadcasting large task binary with size 10.4 MiB\n",
      "23/01/04 07:40:38 WARN TaskSetManager: Stage 132 contains a task of very large size (1661 KiB). The maximum recommended task size is 1000 KiB.\n"
     ]
    },
    {
     "name": "stderr",
     "output_type": "stream",
     "text": [
      "                                                                                \r"
     ]
    },
    {
     "name": "stdout",
     "output_type": "stream",
     "text": [
      "23/01/04 07:40:42 WARN DAGScheduler: Broadcasting large task binary with size 11.1 MiB\n",
      "23/01/04 07:40:42 WARN TaskSetManager: Stage 134 contains a task of very large size (1661 KiB). The maximum recommended task size is 1000 KiB.\n"
     ]
    },
    {
     "name": "stderr",
     "output_type": "stream",
     "text": [
      "                                                                                \r"
     ]
    },
    {
     "name": "stdout",
     "output_type": "stream",
     "text": [
      "23/01/04 07:40:46 WARN DAGScheduler: Broadcasting large task binary with size 11.7 MiB\n",
      "23/01/04 07:40:46 WARN TaskSetManager: Stage 136 contains a task of very large size (1661 KiB). The maximum recommended task size is 1000 KiB.\n"
     ]
    },
    {
     "name": "stderr",
     "output_type": "stream",
     "text": [
      "                                                                                \r"
     ]
    },
    {
     "name": "stdout",
     "output_type": "stream",
     "text": [
      "23/01/04 07:40:49 WARN DAGScheduler: Broadcasting large task binary with size 12.1 MiB\n",
      "23/01/04 07:40:49 WARN TaskSetManager: Stage 138 contains a task of very large size (1661 KiB). The maximum recommended task size is 1000 KiB.\n"
     ]
    },
    {
     "name": "stderr",
     "output_type": "stream",
     "text": [
      "                                                                                \r"
     ]
    },
    {
     "name": "stdout",
     "output_type": "stream",
     "text": [
      "23/01/04 07:40:53 WARN DAGScheduler: Broadcasting large task binary with size 12.4 MiB\n",
      "23/01/04 07:40:53 WARN TaskSetManager: Stage 140 contains a task of very large size (1661 KiB). The maximum recommended task size is 1000 KiB.\n"
     ]
    },
    {
     "name": "stderr",
     "output_type": "stream",
     "text": [
      "                                                                                \r"
     ]
    },
    {
     "name": "stdout",
     "output_type": "stream",
     "text": [
      "0.9644943303264242\n",
      "31061420.505764138\n",
      "23/01/04 07:40:58 WARN TaskSetManager: Stage 146 contains a task of very large size (1661 KiB). The maximum recommended task size is 1000 KiB.\n",
      "23/01/04 07:40:58 WARN TaskSetManager: Stage 147 contains a task of very large size (1661 KiB). The maximum recommended task size is 1000 KiB.\n"
     ]
    },
    {
     "name": "stderr",
     "output_type": "stream",
     "text": [
      "                                                                                \r"
     ]
    },
    {
     "name": "stdout",
     "output_type": "stream",
     "text": [
      "23/01/04 07:40:59 WARN TaskSetManager: Stage 148 contains a task of very large size (1661 KiB). The maximum recommended task size is 1000 KiB.\n"
     ]
    },
    {
     "name": "stderr",
     "output_type": "stream",
     "text": [
      "                                                                                \r"
     ]
    },
    {
     "name": "stdout",
     "output_type": "stream",
     "text": [
      "23/01/04 07:41:01 WARN TaskSetManager: Stage 150 contains a task of very large size (1661 KiB). The maximum recommended task size is 1000 KiB.\n"
     ]
    },
    {
     "name": "stderr",
     "output_type": "stream",
     "text": [
      "                                                                                \r"
     ]
    },
    {
     "name": "stdout",
     "output_type": "stream",
     "text": [
      "23/01/04 07:41:03 WARN TaskSetManager: Stage 152 contains a task of very large size (1661 KiB). The maximum recommended task size is 1000 KiB.\n"
     ]
    },
    {
     "name": "stderr",
     "output_type": "stream",
     "text": [
      "                                                                                \r"
     ]
    },
    {
     "name": "stdout",
     "output_type": "stream",
     "text": [
      "23/01/04 07:41:04 WARN TaskSetManager: Stage 154 contains a task of very large size (1661 KiB). The maximum recommended task size is 1000 KiB.\n"
     ]
    },
    {
     "name": "stderr",
     "output_type": "stream",
     "text": [
      "                                                                                \r"
     ]
    },
    {
     "name": "stdout",
     "output_type": "stream",
     "text": [
      "23/01/04 07:41:05 WARN TaskSetManager: Stage 156 contains a task of very large size (1661 KiB). The maximum recommended task size is 1000 KiB.\n"
     ]
    },
    {
     "name": "stderr",
     "output_type": "stream",
     "text": [
      "                                                                                \r"
     ]
    },
    {
     "name": "stdout",
     "output_type": "stream",
     "text": [
      "23/01/04 07:41:07 WARN TaskSetManager: Stage 158 contains a task of very large size (1661 KiB). The maximum recommended task size is 1000 KiB.\n"
     ]
    },
    {
     "name": "stderr",
     "output_type": "stream",
     "text": [
      "                                                                                \r"
     ]
    },
    {
     "name": "stdout",
     "output_type": "stream",
     "text": [
      "23/01/04 07:41:09 WARN DAGScheduler: Broadcasting large task binary with size 1059.3 KiB\n",
      "23/01/04 07:41:09 WARN TaskSetManager: Stage 160 contains a task of very large size (1661 KiB). The maximum recommended task size is 1000 KiB.\n"
     ]
    },
    {
     "name": "stderr",
     "output_type": "stream",
     "text": [
      "                                                                                \r"
     ]
    },
    {
     "name": "stdout",
     "output_type": "stream",
     "text": [
      "23/01/04 07:41:10 WARN DAGScheduler: Broadcasting large task binary with size 1520.1 KiB\n",
      "23/01/04 07:41:10 WARN TaskSetManager: Stage 162 contains a task of very large size (1661 KiB). The maximum recommended task size is 1000 KiB.\n"
     ]
    },
    {
     "name": "stderr",
     "output_type": "stream",
     "text": [
      "                                                                                \r"
     ]
    },
    {
     "name": "stdout",
     "output_type": "stream",
     "text": [
      "23/01/04 07:41:12 WARN DAGScheduler: Broadcasting large task binary with size 2.1 MiB\n",
      "23/01/04 07:41:12 WARN TaskSetManager: Stage 164 contains a task of very large size (1661 KiB). The maximum recommended task size is 1000 KiB.\n"
     ]
    },
    {
     "name": "stderr",
     "output_type": "stream",
     "text": [
      "                                                                                \r"
     ]
    },
    {
     "name": "stdout",
     "output_type": "stream",
     "text": [
      "23/01/04 07:41:14 WARN DAGScheduler: Broadcasting large task binary with size 2.9 MiB\n",
      "23/01/04 07:41:14 WARN TaskSetManager: Stage 166 contains a task of very large size (1661 KiB). The maximum recommended task size is 1000 KiB.\n"
     ]
    },
    {
     "name": "stderr",
     "output_type": "stream",
     "text": [
      "                                                                                \r"
     ]
    },
    {
     "name": "stdout",
     "output_type": "stream",
     "text": [
      "23/01/04 07:41:17 WARN DAGScheduler: Broadcasting large task binary with size 3.9 MiB\n",
      "23/01/04 07:41:17 WARN TaskSetManager: Stage 168 contains a task of very large size (1661 KiB). The maximum recommended task size is 1000 KiB.\n"
     ]
    },
    {
     "name": "stderr",
     "output_type": "stream",
     "text": [
      "                                                                                \r"
     ]
    },
    {
     "name": "stdout",
     "output_type": "stream",
     "text": [
      "23/01/04 07:41:19 WARN DAGScheduler: Broadcasting large task binary with size 5.1 MiB\n",
      "23/01/04 07:41:19 WARN TaskSetManager: Stage 170 contains a task of very large size (1661 KiB). The maximum recommended task size is 1000 KiB.\n"
     ]
    },
    {
     "name": "stderr",
     "output_type": "stream",
     "text": [
      "                                                                                \r"
     ]
    },
    {
     "name": "stdout",
     "output_type": "stream",
     "text": [
      "23/01/04 07:41:22 WARN DAGScheduler: Broadcasting large task binary with size 6.3 MiB\n",
      "23/01/04 07:41:22 WARN TaskSetManager: Stage 172 contains a task of very large size (1661 KiB). The maximum recommended task size is 1000 KiB.\n"
     ]
    },
    {
     "name": "stderr",
     "output_type": "stream",
     "text": [
      "                                                                                \r"
     ]
    },
    {
     "name": "stdout",
     "output_type": "stream",
     "text": [
      "23/01/04 07:41:26 WARN DAGScheduler: Broadcasting large task binary with size 7.6 MiB\n",
      "23/01/04 07:41:26 WARN TaskSetManager: Stage 174 contains a task of very large size (1661 KiB). The maximum recommended task size is 1000 KiB.\n"
     ]
    },
    {
     "name": "stderr",
     "output_type": "stream",
     "text": [
      "                                                                                \r"
     ]
    },
    {
     "name": "stdout",
     "output_type": "stream",
     "text": [
      "23/01/04 07:41:29 WARN DAGScheduler: Broadcasting large task binary with size 8.6 MiB\n",
      "23/01/04 07:41:29 WARN TaskSetManager: Stage 176 contains a task of very large size (1661 KiB). The maximum recommended task size is 1000 KiB.\n"
     ]
    },
    {
     "name": "stderr",
     "output_type": "stream",
     "text": [
      "                                                                                \r"
     ]
    },
    {
     "name": "stdout",
     "output_type": "stream",
     "text": [
      "23/01/04 07:41:33 WARN DAGScheduler: Broadcasting large task binary with size 9.6 MiB\n",
      "23/01/04 07:41:33 WARN TaskSetManager: Stage 178 contains a task of very large size (1661 KiB). The maximum recommended task size is 1000 KiB.\n"
     ]
    },
    {
     "name": "stderr",
     "output_type": "stream",
     "text": [
      "                                                                                \r"
     ]
    },
    {
     "name": "stdout",
     "output_type": "stream",
     "text": [
      "23/01/04 07:41:36 WARN DAGScheduler: Broadcasting large task binary with size 10.4 MiB\n",
      "23/01/04 07:41:36 WARN TaskSetManager: Stage 180 contains a task of very large size (1661 KiB). The maximum recommended task size is 1000 KiB.\n"
     ]
    },
    {
     "name": "stderr",
     "output_type": "stream",
     "text": [
      "                                                                                \r"
     ]
    },
    {
     "name": "stdout",
     "output_type": "stream",
     "text": [
      "23/01/04 07:41:40 WARN DAGScheduler: Broadcasting large task binary with size 11.1 MiB\n",
      "23/01/04 07:41:40 WARN TaskSetManager: Stage 182 contains a task of very large size (1661 KiB). The maximum recommended task size is 1000 KiB.\n"
     ]
    },
    {
     "name": "stderr",
     "output_type": "stream",
     "text": [
      "                                                                                \r"
     ]
    },
    {
     "name": "stdout",
     "output_type": "stream",
     "text": [
      "23/01/04 07:41:44 WARN DAGScheduler: Broadcasting large task binary with size 11.7 MiB\n",
      "23/01/04 07:41:44 WARN TaskSetManager: Stage 184 contains a task of very large size (1661 KiB). The maximum recommended task size is 1000 KiB.\n"
     ]
    },
    {
     "name": "stderr",
     "output_type": "stream",
     "text": [
      "                                                                                \r"
     ]
    },
    {
     "name": "stdout",
     "output_type": "stream",
     "text": [
      "23/01/04 07:41:47 WARN DAGScheduler: Broadcasting large task binary with size 12.1 MiB\n",
      "23/01/04 07:41:47 WARN TaskSetManager: Stage 186 contains a task of very large size (1661 KiB). The maximum recommended task size is 1000 KiB.\n"
     ]
    },
    {
     "name": "stderr",
     "output_type": "stream",
     "text": [
      "                                                                                \r"
     ]
    },
    {
     "name": "stdout",
     "output_type": "stream",
     "text": [
      "23/01/04 07:41:51 WARN DAGScheduler: Broadcasting large task binary with size 12.4 MiB\n",
      "23/01/04 07:41:51 WARN TaskSetManager: Stage 188 contains a task of very large size (1661 KiB). The maximum recommended task size is 1000 KiB.\n"
     ]
    },
    {
     "name": "stderr",
     "output_type": "stream",
     "text": [
      "                                                                                \r"
     ]
    },
    {
     "name": "stdout",
     "output_type": "stream",
     "text": [
      "0.9644943303264242\n",
      "31061420.50576415\n",
      "23/01/04 07:41:55 WARN TaskSetManager: Stage 194 contains a task of very large size (1661 KiB). The maximum recommended task size is 1000 KiB.\n",
      "23/01/04 07:41:55 WARN TaskSetManager: Stage 195 contains a task of very large size (1661 KiB). The maximum recommended task size is 1000 KiB.\n"
     ]
    },
    {
     "name": "stderr",
     "output_type": "stream",
     "text": [
      "                                                                                \r"
     ]
    },
    {
     "name": "stdout",
     "output_type": "stream",
     "text": [
      "23/01/04 07:41:57 WARN TaskSetManager: Stage 196 contains a task of very large size (1661 KiB). The maximum recommended task size is 1000 KiB.\n"
     ]
    },
    {
     "name": "stderr",
     "output_type": "stream",
     "text": [
      "                                                                                \r"
     ]
    },
    {
     "name": "stdout",
     "output_type": "stream",
     "text": [
      "23/01/04 07:41:59 WARN TaskSetManager: Stage 198 contains a task of very large size (1661 KiB). The maximum recommended task size is 1000 KiB.\n"
     ]
    },
    {
     "name": "stderr",
     "output_type": "stream",
     "text": [
      "                                                                                \r"
     ]
    },
    {
     "name": "stdout",
     "output_type": "stream",
     "text": [
      "23/01/04 07:42:01 WARN TaskSetManager: Stage 200 contains a task of very large size (1661 KiB). The maximum recommended task size is 1000 KiB.\n"
     ]
    },
    {
     "name": "stderr",
     "output_type": "stream",
     "text": [
      "                                                                                \r"
     ]
    },
    {
     "name": "stdout",
     "output_type": "stream",
     "text": [
      "23/01/04 07:42:02 WARN TaskSetManager: Stage 202 contains a task of very large size (1661 KiB). The maximum recommended task size is 1000 KiB.\n"
     ]
    },
    {
     "name": "stderr",
     "output_type": "stream",
     "text": [
      "                                                                                \r"
     ]
    },
    {
     "name": "stdout",
     "output_type": "stream",
     "text": [
      "23/01/04 07:42:03 WARN TaskSetManager: Stage 204 contains a task of very large size (1661 KiB). The maximum recommended task size is 1000 KiB.\n"
     ]
    },
    {
     "name": "stderr",
     "output_type": "stream",
     "text": [
      "                                                                                \r"
     ]
    },
    {
     "name": "stdout",
     "output_type": "stream",
     "text": [
      "23/01/04 07:42:05 WARN TaskSetManager: Stage 206 contains a task of very large size (1661 KiB). The maximum recommended task size is 1000 KiB.\n"
     ]
    },
    {
     "name": "stderr",
     "output_type": "stream",
     "text": [
      "                                                                                \r"
     ]
    },
    {
     "name": "stdout",
     "output_type": "stream",
     "text": [
      "23/01/04 07:42:07 WARN DAGScheduler: Broadcasting large task binary with size 1059.3 KiB\n",
      "23/01/04 07:42:07 WARN TaskSetManager: Stage 208 contains a task of very large size (1661 KiB). The maximum recommended task size is 1000 KiB.\n"
     ]
    },
    {
     "name": "stderr",
     "output_type": "stream",
     "text": [
      "                                                                                \r"
     ]
    },
    {
     "name": "stdout",
     "output_type": "stream",
     "text": [
      "23/01/04 07:42:08 WARN DAGScheduler: Broadcasting large task binary with size 1520.1 KiB\n",
      "23/01/04 07:42:08 WARN TaskSetManager: Stage 210 contains a task of very large size (1661 KiB). The maximum recommended task size is 1000 KiB.\n"
     ]
    },
    {
     "name": "stderr",
     "output_type": "stream",
     "text": [
      "                                                                                \r"
     ]
    },
    {
     "name": "stdout",
     "output_type": "stream",
     "text": [
      "23/01/04 07:42:10 WARN DAGScheduler: Broadcasting large task binary with size 2.1 MiB\n",
      "23/01/04 07:42:10 WARN TaskSetManager: Stage 212 contains a task of very large size (1661 KiB). The maximum recommended task size is 1000 KiB.\n"
     ]
    },
    {
     "name": "stderr",
     "output_type": "stream",
     "text": [
      "                                                                                \r"
     ]
    },
    {
     "name": "stdout",
     "output_type": "stream",
     "text": [
      "23/01/04 07:42:12 WARN DAGScheduler: Broadcasting large task binary with size 2.9 MiB\n",
      "23/01/04 07:42:12 WARN TaskSetManager: Stage 214 contains a task of very large size (1661 KiB). The maximum recommended task size is 1000 KiB.\n"
     ]
    },
    {
     "name": "stderr",
     "output_type": "stream",
     "text": [
      "                                                                                \r"
     ]
    },
    {
     "name": "stdout",
     "output_type": "stream",
     "text": [
      "23/01/04 07:42:15 WARN DAGScheduler: Broadcasting large task binary with size 3.9 MiB\n",
      "23/01/04 07:42:15 WARN TaskSetManager: Stage 216 contains a task of very large size (1661 KiB). The maximum recommended task size is 1000 KiB.\n"
     ]
    },
    {
     "name": "stderr",
     "output_type": "stream",
     "text": [
      "                                                                                \r"
     ]
    },
    {
     "name": "stdout",
     "output_type": "stream",
     "text": [
      "23/01/04 07:42:17 WARN DAGScheduler: Broadcasting large task binary with size 5.1 MiB\n",
      "23/01/04 07:42:17 WARN TaskSetManager: Stage 218 contains a task of very large size (1661 KiB). The maximum recommended task size is 1000 KiB.\n"
     ]
    },
    {
     "name": "stderr",
     "output_type": "stream",
     "text": [
      "                                                                                \r"
     ]
    },
    {
     "name": "stdout",
     "output_type": "stream",
     "text": [
      "23/01/04 07:42:20 WARN DAGScheduler: Broadcasting large task binary with size 6.3 MiB\n",
      "23/01/04 07:42:20 WARN TaskSetManager: Stage 220 contains a task of very large size (1661 KiB). The maximum recommended task size is 1000 KiB.\n"
     ]
    },
    {
     "name": "stderr",
     "output_type": "stream",
     "text": [
      "                                                                                \r"
     ]
    },
    {
     "name": "stdout",
     "output_type": "stream",
     "text": [
      "23/01/04 07:42:24 WARN DAGScheduler: Broadcasting large task binary with size 7.6 MiB\n",
      "23/01/04 07:42:24 WARN TaskSetManager: Stage 222 contains a task of very large size (1661 KiB). The maximum recommended task size is 1000 KiB.\n"
     ]
    },
    {
     "name": "stderr",
     "output_type": "stream",
     "text": [
      "                                                                                \r"
     ]
    },
    {
     "name": "stdout",
     "output_type": "stream",
     "text": [
      "23/01/04 07:42:27 WARN DAGScheduler: Broadcasting large task binary with size 8.6 MiB\n",
      "23/01/04 07:42:27 WARN TaskSetManager: Stage 224 contains a task of very large size (1661 KiB). The maximum recommended task size is 1000 KiB.\n"
     ]
    },
    {
     "name": "stderr",
     "output_type": "stream",
     "text": [
      "                                                                                \r"
     ]
    },
    {
     "name": "stdout",
     "output_type": "stream",
     "text": [
      "23/01/04 07:42:31 WARN DAGScheduler: Broadcasting large task binary with size 9.6 MiB\n",
      "23/01/04 07:42:31 WARN TaskSetManager: Stage 226 contains a task of very large size (1661 KiB). The maximum recommended task size is 1000 KiB.\n"
     ]
    },
    {
     "name": "stderr",
     "output_type": "stream",
     "text": [
      "                                                                                \r"
     ]
    },
    {
     "name": "stdout",
     "output_type": "stream",
     "text": [
      "23/01/04 07:42:35 WARN DAGScheduler: Broadcasting large task binary with size 10.4 MiB\n",
      "23/01/04 07:42:35 WARN TaskSetManager: Stage 228 contains a task of very large size (1661 KiB). The maximum recommended task size is 1000 KiB.\n"
     ]
    },
    {
     "name": "stderr",
     "output_type": "stream",
     "text": [
      "                                                                                \r"
     ]
    },
    {
     "name": "stdout",
     "output_type": "stream",
     "text": [
      "23/01/04 07:42:38 WARN DAGScheduler: Broadcasting large task binary with size 11.1 MiB\n",
      "23/01/04 07:42:38 WARN TaskSetManager: Stage 230 contains a task of very large size (1661 KiB). The maximum recommended task size is 1000 KiB.\n"
     ]
    },
    {
     "name": "stderr",
     "output_type": "stream",
     "text": [
      "                                                                                \r"
     ]
    },
    {
     "name": "stdout",
     "output_type": "stream",
     "text": [
      "23/01/04 07:42:42 WARN DAGScheduler: Broadcasting large task binary with size 11.7 MiB\n",
      "23/01/04 07:42:42 WARN TaskSetManager: Stage 232 contains a task of very large size (1661 KiB). The maximum recommended task size is 1000 KiB.\n"
     ]
    },
    {
     "name": "stderr",
     "output_type": "stream",
     "text": [
      "                                                                                \r"
     ]
    },
    {
     "name": "stdout",
     "output_type": "stream",
     "text": [
      "23/01/04 07:42:45 WARN DAGScheduler: Broadcasting large task binary with size 12.1 MiB\n",
      "23/01/04 07:42:45 WARN TaskSetManager: Stage 234 contains a task of very large size (1661 KiB). The maximum recommended task size is 1000 KiB.\n"
     ]
    },
    {
     "name": "stderr",
     "output_type": "stream",
     "text": [
      "                                                                                \r"
     ]
    },
    {
     "name": "stdout",
     "output_type": "stream",
     "text": [
      "23/01/04 07:42:49 WARN DAGScheduler: Broadcasting large task binary with size 12.4 MiB\n",
      "23/01/04 07:42:49 WARN TaskSetManager: Stage 236 contains a task of very large size (1661 KiB). The maximum recommended task size is 1000 KiB.\n"
     ]
    },
    {
     "name": "stderr",
     "output_type": "stream",
     "text": [
      "                                                                                \r"
     ]
    },
    {
     "name": "stdout",
     "output_type": "stream",
     "text": [
      "0.9644943303264242\n",
      "31061420.50576415\n",
      "23/01/04 07:42:54 WARN TaskSetManager: Stage 242 contains a task of very large size (1661 KiB). The maximum recommended task size is 1000 KiB.\n",
      "23/01/04 07:42:54 WARN TaskSetManager: Stage 243 contains a task of very large size (1661 KiB). The maximum recommended task size is 1000 KiB.\n"
     ]
    },
    {
     "name": "stderr",
     "output_type": "stream",
     "text": [
      "                                                                                \r"
     ]
    },
    {
     "name": "stdout",
     "output_type": "stream",
     "text": [
      "23/01/04 07:42:55 WARN TaskSetManager: Stage 244 contains a task of very large size (1661 KiB). The maximum recommended task size is 1000 KiB.\n"
     ]
    },
    {
     "name": "stderr",
     "output_type": "stream",
     "text": [
      "                                                                                \r"
     ]
    },
    {
     "name": "stdout",
     "output_type": "stream",
     "text": [
      "23/01/04 07:42:57 WARN TaskSetManager: Stage 246 contains a task of very large size (1661 KiB). The maximum recommended task size is 1000 KiB.\n"
     ]
    },
    {
     "name": "stderr",
     "output_type": "stream",
     "text": [
      "                                                                                \r"
     ]
    },
    {
     "name": "stdout",
     "output_type": "stream",
     "text": [
      "23/01/04 07:42:58 WARN TaskSetManager: Stage 248 contains a task of very large size (1661 KiB). The maximum recommended task size is 1000 KiB.\n"
     ]
    },
    {
     "name": "stderr",
     "output_type": "stream",
     "text": [
      "                                                                                \r"
     ]
    },
    {
     "name": "stdout",
     "output_type": "stream",
     "text": [
      "23/01/04 07:43:00 WARN TaskSetManager: Stage 250 contains a task of very large size (1661 KiB). The maximum recommended task size is 1000 KiB.\n"
     ]
    },
    {
     "name": "stderr",
     "output_type": "stream",
     "text": [
      "                                                                                \r"
     ]
    },
    {
     "name": "stdout",
     "output_type": "stream",
     "text": [
      "23/01/04 07:43:01 WARN TaskSetManager: Stage 252 contains a task of very large size (1661 KiB). The maximum recommended task size is 1000 KiB.\n"
     ]
    },
    {
     "name": "stderr",
     "output_type": "stream",
     "text": [
      "                                                                                \r"
     ]
    },
    {
     "name": "stdout",
     "output_type": "stream",
     "text": [
      "23/01/04 07:43:02 WARN TaskSetManager: Stage 254 contains a task of very large size (1661 KiB). The maximum recommended task size is 1000 KiB.\n"
     ]
    },
    {
     "name": "stderr",
     "output_type": "stream",
     "text": [
      "                                                                                \r"
     ]
    },
    {
     "name": "stdout",
     "output_type": "stream",
     "text": [
      "23/01/04 07:43:05 WARN DAGScheduler: Broadcasting large task binary with size 1059.3 KiB\n",
      "23/01/04 07:43:05 WARN TaskSetManager: Stage 256 contains a task of very large size (1661 KiB). The maximum recommended task size is 1000 KiB.\n"
     ]
    },
    {
     "name": "stderr",
     "output_type": "stream",
     "text": [
      "                                                                                \r"
     ]
    },
    {
     "name": "stdout",
     "output_type": "stream",
     "text": [
      "23/01/04 07:43:06 WARN DAGScheduler: Broadcasting large task binary with size 1520.1 KiB\n",
      "23/01/04 07:43:06 WARN TaskSetManager: Stage 258 contains a task of very large size (1661 KiB). The maximum recommended task size is 1000 KiB.\n"
     ]
    },
    {
     "name": "stderr",
     "output_type": "stream",
     "text": [
      "                                                                                \r"
     ]
    },
    {
     "name": "stdout",
     "output_type": "stream",
     "text": [
      "23/01/04 07:43:08 WARN DAGScheduler: Broadcasting large task binary with size 2.1 MiB\n",
      "23/01/04 07:43:08 WARN TaskSetManager: Stage 260 contains a task of very large size (1661 KiB). The maximum recommended task size is 1000 KiB.\n"
     ]
    },
    {
     "name": "stderr",
     "output_type": "stream",
     "text": [
      "                                                                                \r"
     ]
    },
    {
     "name": "stdout",
     "output_type": "stream",
     "text": [
      "23/01/04 07:43:10 WARN DAGScheduler: Broadcasting large task binary with size 2.9 MiB\n",
      "23/01/04 07:43:10 WARN TaskSetManager: Stage 262 contains a task of very large size (1661 KiB). The maximum recommended task size is 1000 KiB.\n"
     ]
    },
    {
     "name": "stderr",
     "output_type": "stream",
     "text": [
      "                                                                                \r"
     ]
    },
    {
     "name": "stdout",
     "output_type": "stream",
     "text": [
      "23/01/04 07:43:13 WARN DAGScheduler: Broadcasting large task binary with size 3.9 MiB\n",
      "23/01/04 07:43:13 WARN TaskSetManager: Stage 264 contains a task of very large size (1661 KiB). The maximum recommended task size is 1000 KiB.\n"
     ]
    },
    {
     "name": "stderr",
     "output_type": "stream",
     "text": [
      "                                                                                \r"
     ]
    },
    {
     "name": "stdout",
     "output_type": "stream",
     "text": [
      "23/01/04 07:43:15 WARN DAGScheduler: Broadcasting large task binary with size 5.1 MiB\n",
      "23/01/04 07:43:15 WARN TaskSetManager: Stage 266 contains a task of very large size (1661 KiB). The maximum recommended task size is 1000 KiB.\n"
     ]
    },
    {
     "name": "stderr",
     "output_type": "stream",
     "text": [
      "                                                                                \r"
     ]
    },
    {
     "name": "stdout",
     "output_type": "stream",
     "text": [
      "23/01/04 07:43:18 WARN DAGScheduler: Broadcasting large task binary with size 6.3 MiB\n",
      "23/01/04 07:43:18 WARN TaskSetManager: Stage 268 contains a task of very large size (1661 KiB). The maximum recommended task size is 1000 KiB.\n"
     ]
    },
    {
     "name": "stderr",
     "output_type": "stream",
     "text": [
      "                                                                                \r"
     ]
    },
    {
     "name": "stdout",
     "output_type": "stream",
     "text": [
      "23/01/04 07:43:21 WARN DAGScheduler: Broadcasting large task binary with size 7.6 MiB\n",
      "23/01/04 07:43:21 WARN TaskSetManager: Stage 270 contains a task of very large size (1661 KiB). The maximum recommended task size is 1000 KiB.\n"
     ]
    },
    {
     "name": "stderr",
     "output_type": "stream",
     "text": [
      "                                                                                \r"
     ]
    },
    {
     "name": "stdout",
     "output_type": "stream",
     "text": [
      "23/01/04 07:43:25 WARN DAGScheduler: Broadcasting large task binary with size 8.6 MiB\n",
      "23/01/04 07:43:25 WARN TaskSetManager: Stage 272 contains a task of very large size (1661 KiB). The maximum recommended task size is 1000 KiB.\n"
     ]
    },
    {
     "name": "stderr",
     "output_type": "stream",
     "text": [
      "                                                                                \r"
     ]
    },
    {
     "name": "stdout",
     "output_type": "stream",
     "text": [
      "23/01/04 07:43:29 WARN DAGScheduler: Broadcasting large task binary with size 9.6 MiB\n",
      "23/01/04 07:43:29 WARN TaskSetManager: Stage 274 contains a task of very large size (1661 KiB). The maximum recommended task size is 1000 KiB.\n"
     ]
    },
    {
     "name": "stderr",
     "output_type": "stream",
     "text": [
      "                                                                                \r"
     ]
    },
    {
     "name": "stdout",
     "output_type": "stream",
     "text": [
      "23/01/04 07:43:32 WARN DAGScheduler: Broadcasting large task binary with size 10.4 MiB\n",
      "23/01/04 07:43:32 WARN TaskSetManager: Stage 276 contains a task of very large size (1661 KiB). The maximum recommended task size is 1000 KiB.\n"
     ]
    },
    {
     "name": "stderr",
     "output_type": "stream",
     "text": [
      "                                                                                \r"
     ]
    },
    {
     "name": "stdout",
     "output_type": "stream",
     "text": [
      "23/01/04 07:43:36 WARN DAGScheduler: Broadcasting large task binary with size 11.1 MiB\n",
      "23/01/04 07:43:36 WARN TaskSetManager: Stage 278 contains a task of very large size (1661 KiB). The maximum recommended task size is 1000 KiB.\n"
     ]
    },
    {
     "name": "stderr",
     "output_type": "stream",
     "text": [
      "                                                                                \r"
     ]
    },
    {
     "name": "stdout",
     "output_type": "stream",
     "text": [
      "23/01/04 07:43:40 WARN DAGScheduler: Broadcasting large task binary with size 11.7 MiB\n",
      "23/01/04 07:43:40 WARN TaskSetManager: Stage 280 contains a task of very large size (1661 KiB). The maximum recommended task size is 1000 KiB.\n"
     ]
    },
    {
     "name": "stderr",
     "output_type": "stream",
     "text": [
      "                                                                                \r"
     ]
    },
    {
     "name": "stdout",
     "output_type": "stream",
     "text": [
      "23/01/04 07:43:43 WARN DAGScheduler: Broadcasting large task binary with size 12.1 MiB\n",
      "23/01/04 07:43:43 WARN TaskSetManager: Stage 282 contains a task of very large size (1661 KiB). The maximum recommended task size is 1000 KiB.\n"
     ]
    },
    {
     "name": "stderr",
     "output_type": "stream",
     "text": [
      "                                                                                \r"
     ]
    },
    {
     "name": "stdout",
     "output_type": "stream",
     "text": [
      "23/01/04 07:43:47 WARN DAGScheduler: Broadcasting large task binary with size 12.4 MiB\n",
      "23/01/04 07:43:47 WARN TaskSetManager: Stage 284 contains a task of very large size (1661 KiB). The maximum recommended task size is 1000 KiB.\n"
     ]
    },
    {
     "name": "stderr",
     "output_type": "stream",
     "text": [
      "                                                                                \r"
     ]
    },
    {
     "name": "stdout",
     "output_type": "stream",
     "text": [
      "0.9644943303264242\n",
      "31061420.50576415\n",
      "23/01/04 07:43:52 WARN TaskSetManager: Stage 290 contains a task of very large size (1661 KiB). The maximum recommended task size is 1000 KiB.\n",
      "23/01/04 07:43:52 WARN TaskSetManager: Stage 291 contains a task of very large size (1661 KiB). The maximum recommended task size is 1000 KiB.\n"
     ]
    },
    {
     "name": "stderr",
     "output_type": "stream",
     "text": [
      "                                                                                \r"
     ]
    },
    {
     "name": "stdout",
     "output_type": "stream",
     "text": [
      "23/01/04 07:43:53 WARN TaskSetManager: Stage 292 contains a task of very large size (1661 KiB). The maximum recommended task size is 1000 KiB.\n"
     ]
    },
    {
     "name": "stderr",
     "output_type": "stream",
     "text": [
      "                                                                                \r"
     ]
    },
    {
     "name": "stdout",
     "output_type": "stream",
     "text": [
      "23/01/04 07:43:55 WARN TaskSetManager: Stage 294 contains a task of very large size (1661 KiB). The maximum recommended task size is 1000 KiB.\n"
     ]
    },
    {
     "name": "stderr",
     "output_type": "stream",
     "text": [
      "                                                                                \r"
     ]
    },
    {
     "name": "stdout",
     "output_type": "stream",
     "text": [
      "23/01/04 07:43:57 WARN TaskSetManager: Stage 296 contains a task of very large size (1661 KiB). The maximum recommended task size is 1000 KiB.\n"
     ]
    },
    {
     "name": "stderr",
     "output_type": "stream",
     "text": [
      "                                                                                \r"
     ]
    },
    {
     "name": "stdout",
     "output_type": "stream",
     "text": [
      "23/01/04 07:43:58 WARN TaskSetManager: Stage 298 contains a task of very large size (1661 KiB). The maximum recommended task size is 1000 KiB.\n"
     ]
    },
    {
     "name": "stderr",
     "output_type": "stream",
     "text": [
      "                                                                                \r"
     ]
    },
    {
     "name": "stdout",
     "output_type": "stream",
     "text": [
      "23/01/04 07:43:59 WARN TaskSetManager: Stage 300 contains a task of very large size (1661 KiB). The maximum recommended task size is 1000 KiB.\n"
     ]
    },
    {
     "name": "stderr",
     "output_type": "stream",
     "text": [
      "                                                                                \r"
     ]
    },
    {
     "name": "stdout",
     "output_type": "stream",
     "text": [
      "23/01/04 07:44:01 WARN TaskSetManager: Stage 302 contains a task of very large size (1661 KiB). The maximum recommended task size is 1000 KiB.\n"
     ]
    },
    {
     "name": "stderr",
     "output_type": "stream",
     "text": [
      "                                                                                \r"
     ]
    },
    {
     "name": "stdout",
     "output_type": "stream",
     "text": [
      "23/01/04 07:44:03 WARN DAGScheduler: Broadcasting large task binary with size 1059.3 KiB\n",
      "23/01/04 07:44:03 WARN TaskSetManager: Stage 304 contains a task of very large size (1661 KiB). The maximum recommended task size is 1000 KiB.\n"
     ]
    },
    {
     "name": "stderr",
     "output_type": "stream",
     "text": [
      "                                                                                \r"
     ]
    },
    {
     "name": "stdout",
     "output_type": "stream",
     "text": [
      "23/01/04 07:44:04 WARN DAGScheduler: Broadcasting large task binary with size 1520.1 KiB\n",
      "23/01/04 07:44:04 WARN TaskSetManager: Stage 306 contains a task of very large size (1661 KiB). The maximum recommended task size is 1000 KiB.\n"
     ]
    },
    {
     "name": "stderr",
     "output_type": "stream",
     "text": [
      "                                                                                \r"
     ]
    },
    {
     "name": "stdout",
     "output_type": "stream",
     "text": [
      "23/01/04 07:44:06 WARN DAGScheduler: Broadcasting large task binary with size 2.1 MiB\n",
      "23/01/04 07:44:06 WARN TaskSetManager: Stage 308 contains a task of very large size (1661 KiB). The maximum recommended task size is 1000 KiB.\n"
     ]
    },
    {
     "name": "stderr",
     "output_type": "stream",
     "text": [
      "                                                                                \r"
     ]
    },
    {
     "name": "stdout",
     "output_type": "stream",
     "text": [
      "23/01/04 07:44:09 WARN DAGScheduler: Broadcasting large task binary with size 2.9 MiB\n",
      "23/01/04 07:44:09 WARN TaskSetManager: Stage 310 contains a task of very large size (1661 KiB). The maximum recommended task size is 1000 KiB.\n"
     ]
    },
    {
     "name": "stderr",
     "output_type": "stream",
     "text": [
      "                                                                                \r"
     ]
    },
    {
     "name": "stdout",
     "output_type": "stream",
     "text": [
      "23/01/04 07:44:11 WARN DAGScheduler: Broadcasting large task binary with size 3.9 MiB\n",
      "23/01/04 07:44:11 WARN TaskSetManager: Stage 312 contains a task of very large size (1661 KiB). The maximum recommended task size is 1000 KiB.\n"
     ]
    },
    {
     "name": "stderr",
     "output_type": "stream",
     "text": [
      "                                                                                \r"
     ]
    },
    {
     "name": "stdout",
     "output_type": "stream",
     "text": [
      "23/01/04 07:44:14 WARN DAGScheduler: Broadcasting large task binary with size 5.1 MiB\n",
      "23/01/04 07:44:14 WARN TaskSetManager: Stage 314 contains a task of very large size (1661 KiB). The maximum recommended task size is 1000 KiB.\n"
     ]
    },
    {
     "name": "stderr",
     "output_type": "stream",
     "text": [
      "                                                                                \r"
     ]
    },
    {
     "name": "stdout",
     "output_type": "stream",
     "text": [
      "23/01/04 07:44:17 WARN DAGScheduler: Broadcasting large task binary with size 6.3 MiB\n",
      "23/01/04 07:44:17 WARN TaskSetManager: Stage 316 contains a task of very large size (1661 KiB). The maximum recommended task size is 1000 KiB.\n"
     ]
    },
    {
     "name": "stderr",
     "output_type": "stream",
     "text": [
      "                                                                                \r"
     ]
    },
    {
     "name": "stdout",
     "output_type": "stream",
     "text": [
      "23/01/04 07:44:20 WARN DAGScheduler: Broadcasting large task binary with size 7.6 MiB\n",
      "23/01/04 07:44:20 WARN TaskSetManager: Stage 318 contains a task of very large size (1661 KiB). The maximum recommended task size is 1000 KiB.\n"
     ]
    },
    {
     "name": "stderr",
     "output_type": "stream",
     "text": [
      "                                                                                \r"
     ]
    },
    {
     "name": "stdout",
     "output_type": "stream",
     "text": [
      "23/01/04 07:44:24 WARN DAGScheduler: Broadcasting large task binary with size 8.6 MiB\n",
      "23/01/04 07:44:24 WARN TaskSetManager: Stage 320 contains a task of very large size (1661 KiB). The maximum recommended task size is 1000 KiB.\n"
     ]
    },
    {
     "name": "stderr",
     "output_type": "stream",
     "text": [
      "                                                                                \r"
     ]
    },
    {
     "name": "stdout",
     "output_type": "stream",
     "text": [
      "23/01/04 07:44:28 WARN DAGScheduler: Broadcasting large task binary with size 9.6 MiB\n",
      "23/01/04 07:44:28 WARN TaskSetManager: Stage 322 contains a task of very large size (1661 KiB). The maximum recommended task size is 1000 KiB.\n"
     ]
    },
    {
     "name": "stderr",
     "output_type": "stream",
     "text": [
      "                                                                                \r"
     ]
    },
    {
     "name": "stdout",
     "output_type": "stream",
     "text": [
      "23/01/04 07:44:32 WARN DAGScheduler: Broadcasting large task binary with size 10.4 MiB\n",
      "23/01/04 07:44:32 WARN TaskSetManager: Stage 324 contains a task of very large size (1661 KiB). The maximum recommended task size is 1000 KiB.\n"
     ]
    },
    {
     "name": "stderr",
     "output_type": "stream",
     "text": [
      "                                                                                \r"
     ]
    },
    {
     "name": "stdout",
     "output_type": "stream",
     "text": [
      "23/01/04 07:44:36 WARN DAGScheduler: Broadcasting large task binary with size 11.1 MiB\n",
      "23/01/04 07:44:36 WARN TaskSetManager: Stage 326 contains a task of very large size (1661 KiB). The maximum recommended task size is 1000 KiB.\n"
     ]
    },
    {
     "name": "stderr",
     "output_type": "stream",
     "text": [
      "                                                                                \r"
     ]
    },
    {
     "name": "stdout",
     "output_type": "stream",
     "text": [
      "23/01/04 07:44:40 WARN DAGScheduler: Broadcasting large task binary with size 11.7 MiB\n",
      "23/01/04 07:44:40 WARN TaskSetManager: Stage 328 contains a task of very large size (1661 KiB). The maximum recommended task size is 1000 KiB.\n"
     ]
    },
    {
     "name": "stderr",
     "output_type": "stream",
     "text": [
      "                                                                                \r"
     ]
    },
    {
     "name": "stdout",
     "output_type": "stream",
     "text": [
      "23/01/04 07:44:44 WARN DAGScheduler: Broadcasting large task binary with size 12.1 MiB\n",
      "23/01/04 07:44:44 WARN TaskSetManager: Stage 330 contains a task of very large size (1661 KiB). The maximum recommended task size is 1000 KiB.\n"
     ]
    },
    {
     "name": "stderr",
     "output_type": "stream",
     "text": [
      "                                                                                \r"
     ]
    },
    {
     "name": "stdout",
     "output_type": "stream",
     "text": [
      "23/01/04 07:44:47 WARN DAGScheduler: Broadcasting large task binary with size 12.4 MiB\n",
      "23/01/04 07:44:47 WARN TaskSetManager: Stage 332 contains a task of very large size (1661 KiB). The maximum recommended task size is 1000 KiB.\n"
     ]
    },
    {
     "name": "stderr",
     "output_type": "stream",
     "text": [
      "                                                                                \r"
     ]
    },
    {
     "name": "stdout",
     "output_type": "stream",
     "text": [
      "0.9644943303264242\n",
      "31061420.505764138\n",
      "23/01/04 07:44:52 WARN TaskSetManager: Stage 338 contains a task of very large size (1661 KiB). The maximum recommended task size is 1000 KiB.\n",
      "23/01/04 07:44:52 WARN TaskSetManager: Stage 339 contains a task of very large size (1661 KiB). The maximum recommended task size is 1000 KiB.\n"
     ]
    },
    {
     "name": "stderr",
     "output_type": "stream",
     "text": [
      "                                                                                \r"
     ]
    },
    {
     "name": "stdout",
     "output_type": "stream",
     "text": [
      "23/01/04 07:44:53 WARN TaskSetManager: Stage 340 contains a task of very large size (1661 KiB). The maximum recommended task size is 1000 KiB.\n"
     ]
    },
    {
     "name": "stderr",
     "output_type": "stream",
     "text": [
      "                                                                                \r"
     ]
    },
    {
     "name": "stdout",
     "output_type": "stream",
     "text": [
      "23/01/04 07:44:55 WARN TaskSetManager: Stage 342 contains a task of very large size (1661 KiB). The maximum recommended task size is 1000 KiB.\n"
     ]
    },
    {
     "name": "stderr",
     "output_type": "stream",
     "text": [
      "                                                                                \r"
     ]
    },
    {
     "name": "stdout",
     "output_type": "stream",
     "text": [
      "23/01/04 07:44:57 WARN TaskSetManager: Stage 344 contains a task of very large size (1661 KiB). The maximum recommended task size is 1000 KiB.\n"
     ]
    },
    {
     "name": "stderr",
     "output_type": "stream",
     "text": [
      "                                                                                \r"
     ]
    },
    {
     "name": "stdout",
     "output_type": "stream",
     "text": [
      "23/01/04 07:44:58 WARN TaskSetManager: Stage 346 contains a task of very large size (1661 KiB). The maximum recommended task size is 1000 KiB.\n"
     ]
    },
    {
     "name": "stderr",
     "output_type": "stream",
     "text": [
      "                                                                                \r"
     ]
    },
    {
     "name": "stdout",
     "output_type": "stream",
     "text": [
      "23/01/04 07:45:00 WARN TaskSetManager: Stage 348 contains a task of very large size (1661 KiB). The maximum recommended task size is 1000 KiB.\n"
     ]
    },
    {
     "name": "stderr",
     "output_type": "stream",
     "text": [
      "                                                                                \r"
     ]
    },
    {
     "name": "stdout",
     "output_type": "stream",
     "text": [
      "23/01/04 07:45:01 WARN TaskSetManager: Stage 350 contains a task of very large size (1661 KiB). The maximum recommended task size is 1000 KiB.\n"
     ]
    },
    {
     "name": "stderr",
     "output_type": "stream",
     "text": [
      "                                                                                \r"
     ]
    },
    {
     "name": "stdout",
     "output_type": "stream",
     "text": [
      "23/01/04 07:45:03 WARN DAGScheduler: Broadcasting large task binary with size 1059.3 KiB\n",
      "23/01/04 07:45:03 WARN TaskSetManager: Stage 352 contains a task of very large size (1661 KiB). The maximum recommended task size is 1000 KiB.\n"
     ]
    },
    {
     "name": "stderr",
     "output_type": "stream",
     "text": [
      "                                                                                \r"
     ]
    },
    {
     "name": "stdout",
     "output_type": "stream",
     "text": [
      "23/01/04 07:45:05 WARN DAGScheduler: Broadcasting large task binary with size 1520.1 KiB\n",
      "23/01/04 07:45:05 WARN TaskSetManager: Stage 354 contains a task of very large size (1661 KiB). The maximum recommended task size is 1000 KiB.\n"
     ]
    },
    {
     "name": "stderr",
     "output_type": "stream",
     "text": [
      "                                                                                \r"
     ]
    },
    {
     "name": "stdout",
     "output_type": "stream",
     "text": [
      "23/01/04 07:45:07 WARN DAGScheduler: Broadcasting large task binary with size 2.1 MiB\n",
      "23/01/04 07:45:07 WARN TaskSetManager: Stage 356 contains a task of very large size (1661 KiB). The maximum recommended task size is 1000 KiB.\n"
     ]
    },
    {
     "name": "stderr",
     "output_type": "stream",
     "text": [
      "                                                                                \r"
     ]
    },
    {
     "name": "stdout",
     "output_type": "stream",
     "text": [
      "23/01/04 07:45:09 WARN DAGScheduler: Broadcasting large task binary with size 2.9 MiB\n",
      "23/01/04 07:45:09 WARN TaskSetManager: Stage 358 contains a task of very large size (1661 KiB). The maximum recommended task size is 1000 KiB.\n"
     ]
    },
    {
     "name": "stderr",
     "output_type": "stream",
     "text": [
      "                                                                                \r"
     ]
    },
    {
     "name": "stdout",
     "output_type": "stream",
     "text": [
      "23/01/04 07:45:11 WARN DAGScheduler: Broadcasting large task binary with size 3.9 MiB\n",
      "23/01/04 07:45:11 WARN TaskSetManager: Stage 360 contains a task of very large size (1661 KiB). The maximum recommended task size is 1000 KiB.\n"
     ]
    },
    {
     "name": "stderr",
     "output_type": "stream",
     "text": [
      "                                                                                \r"
     ]
    },
    {
     "name": "stdout",
     "output_type": "stream",
     "text": [
      "23/01/04 07:45:14 WARN DAGScheduler: Broadcasting large task binary with size 5.1 MiB\n",
      "23/01/04 07:45:14 WARN TaskSetManager: Stage 362 contains a task of very large size (1661 KiB). The maximum recommended task size is 1000 KiB.\n"
     ]
    },
    {
     "name": "stderr",
     "output_type": "stream",
     "text": [
      "                                                                                \r"
     ]
    },
    {
     "name": "stdout",
     "output_type": "stream",
     "text": [
      "23/01/04 07:45:17 WARN DAGScheduler: Broadcasting large task binary with size 6.3 MiB\n",
      "23/01/04 07:45:17 WARN TaskSetManager: Stage 364 contains a task of very large size (1661 KiB). The maximum recommended task size is 1000 KiB.\n"
     ]
    },
    {
     "name": "stderr",
     "output_type": "stream",
     "text": [
      "                                                                                \r"
     ]
    },
    {
     "name": "stdout",
     "output_type": "stream",
     "text": [
      "23/01/04 07:45:20 WARN DAGScheduler: Broadcasting large task binary with size 7.6 MiB\n",
      "23/01/04 07:45:21 WARN TaskSetManager: Stage 366 contains a task of very large size (1661 KiB). The maximum recommended task size is 1000 KiB.\n"
     ]
    },
    {
     "name": "stderr",
     "output_type": "stream",
     "text": [
      "                                                                                \r"
     ]
    },
    {
     "name": "stdout",
     "output_type": "stream",
     "text": [
      "23/01/04 07:45:24 WARN DAGScheduler: Broadcasting large task binary with size 8.6 MiB\n",
      "23/01/04 07:45:24 WARN TaskSetManager: Stage 368 contains a task of very large size (1661 KiB). The maximum recommended task size is 1000 KiB.\n"
     ]
    },
    {
     "name": "stderr",
     "output_type": "stream",
     "text": [
      "                                                                                \r"
     ]
    },
    {
     "name": "stdout",
     "output_type": "stream",
     "text": [
      "23/01/04 07:45:28 WARN DAGScheduler: Broadcasting large task binary with size 9.6 MiB\n",
      "23/01/04 07:45:28 WARN TaskSetManager: Stage 370 contains a task of very large size (1661 KiB). The maximum recommended task size is 1000 KiB.\n"
     ]
    },
    {
     "name": "stderr",
     "output_type": "stream",
     "text": [
      "                                                                                \r"
     ]
    },
    {
     "name": "stdout",
     "output_type": "stream",
     "text": [
      "23/01/04 07:45:31 WARN DAGScheduler: Broadcasting large task binary with size 10.4 MiB\n",
      "23/01/04 07:45:31 WARN TaskSetManager: Stage 372 contains a task of very large size (1661 KiB). The maximum recommended task size is 1000 KiB.\n"
     ]
    },
    {
     "name": "stderr",
     "output_type": "stream",
     "text": [
      "                                                                                \r"
     ]
    },
    {
     "name": "stdout",
     "output_type": "stream",
     "text": [
      "23/01/04 07:45:34 WARN DAGScheduler: Broadcasting large task binary with size 11.1 MiB\n",
      "23/01/04 07:45:35 WARN TaskSetManager: Stage 374 contains a task of very large size (1661 KiB). The maximum recommended task size is 1000 KiB.\n"
     ]
    },
    {
     "name": "stderr",
     "output_type": "stream",
     "text": [
      "                                                                                \r"
     ]
    },
    {
     "name": "stdout",
     "output_type": "stream",
     "text": [
      "23/01/04 07:45:38 WARN DAGScheduler: Broadcasting large task binary with size 11.7 MiB\n",
      "23/01/04 07:45:38 WARN TaskSetManager: Stage 376 contains a task of very large size (1661 KiB). The maximum recommended task size is 1000 KiB.\n"
     ]
    },
    {
     "name": "stderr",
     "output_type": "stream",
     "text": [
      "                                                                                \r"
     ]
    },
    {
     "name": "stdout",
     "output_type": "stream",
     "text": [
      "23/01/04 07:45:41 WARN DAGScheduler: Broadcasting large task binary with size 12.1 MiB\n",
      "23/01/04 07:45:41 WARN TaskSetManager: Stage 378 contains a task of very large size (1661 KiB). The maximum recommended task size is 1000 KiB.\n"
     ]
    },
    {
     "name": "stderr",
     "output_type": "stream",
     "text": [
      "                                                                                \r"
     ]
    },
    {
     "name": "stdout",
     "output_type": "stream",
     "text": [
      "23/01/04 07:45:45 WARN DAGScheduler: Broadcasting large task binary with size 12.4 MiB\n",
      "23/01/04 07:45:45 WARN TaskSetManager: Stage 380 contains a task of very large size (1661 KiB). The maximum recommended task size is 1000 KiB.\n"
     ]
    },
    {
     "name": "stderr",
     "output_type": "stream",
     "text": [
      "                                                                                \r"
     ]
    },
    {
     "name": "stdout",
     "output_type": "stream",
     "text": [
      "0.9644943303264242\n",
      "31061420.50576415\n",
      "57.7 s ± 789 ms per loop (mean ± std. dev. of 7 runs, 1 loop each)\n"
     ]
    }
   ],
   "source": [
    "%%timeit\n",
    "S_RFC = RandomForestRegressor(maxDepth=20) #numTrees=100,\n",
    " \n",
    "RFC_model = S_RFC.fit(train_model)\n",
    "\n",
    "y_pred_RFC = RFC_model.transform(test_model)\n",
    "\n",
    "eval_r2 = RegressionEvaluator(metricName='r2')\n",
    "eval_mse = RegressionEvaluator(metricName='mse')\n",
    "rsquare = eval_r2.evaluate(y_pred_RFC)\n",
    "mse = eval_mse.evaluate(y_pred_RFC)\n",
    "\n",
    "# print(rsquare)\n",
    "# print(mse)"
   ]
  },
  {
   "cell_type": "code",
   "execution_count": null,
   "id": "7511b94e-7616-4808-973b-22dbaeafcd04",
   "metadata": {},
   "outputs": [],
   "source": []
  }
 ],
 "metadata": {
  "kernelspec": {
   "display_name": "Python 3 (ipykernel)",
   "language": "python",
   "name": "python3"
  },
  "language_info": {
   "codemirror_mode": {
    "name": "ipython",
    "version": 3
   },
   "file_extension": ".py",
   "mimetype": "text/x-python",
   "name": "python",
   "nbconvert_exporter": "python",
   "pygments_lexer": "ipython3",
   "version": "3.8.10"
  }
 },
 "nbformat": 4,
 "nbformat_minor": 5
}
