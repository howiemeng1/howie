{
 "cells": [
  {
   "cell_type": "code",
   "execution_count": 1,
   "metadata": {},
   "outputs": [],
   "source": [
    "import pandas as pd "
   ]
  },
  {
   "cell_type": "code",
   "execution_count": 2,
   "metadata": {},
   "outputs": [],
   "source": [
    "col = ['職缺連結','職缺類別','職位','職位類別','縣市','地區','公司名稱','職缺名稱','工作內容','上班時段',\n",
    "'管理責任','職務類別','工作待遇','上班地點','工作經歷','學歷要求','科系要求','擅長工具','工作技能','資本額','外商']"
   ]
  },
  {
   "cell_type": "code",
   "execution_count": 9,
   "metadata": {},
   "outputs": [],
   "source": [
    "col2=['Predicted','salary_avg']"
   ]
  },
  {
   "cell_type": "code",
   "execution_count": 4,
   "metadata": {},
   "outputs": [
    {
     "data": {
      "text/plain": [
       "21"
      ]
     },
     "execution_count": 4,
     "metadata": {},
     "output_type": "execute_result"
    }
   ],
   "source": [
    "len(col)"
   ]
  },
  {
   "cell_type": "code",
   "execution_count": 18,
   "metadata": {},
   "outputs": [],
   "source": [
    "df2 = pd.read_csv(r'C:\\Users\\student\\Downloads\\predict_salary_2W5W_avg_20230107.csv',usecols=col2)"
   ]
  },
  {
   "cell_type": "code",
   "execution_count": 20,
   "metadata": {},
   "outputs": [],
   "source": [
    "\n",
    "df = pd.read_csv(r'C:\\Users\\student\\python_web_scraping-master\\job7_all_clean.csv',usecols=col) #"
   ]
  },
  {
   "cell_type": "code",
   "execution_count": 21,
   "metadata": {},
   "outputs": [
    {
     "data": {
      "text/plain": [
       "['Predicted', 'salary_avg']"
      ]
     },
     "execution_count": 21,
     "metadata": {},
     "output_type": "execute_result"
    }
   ],
   "source": [
    "df2.columns.to_list()"
   ]
  },
  {
   "cell_type": "code",
   "execution_count": 24,
   "metadata": {},
   "outputs": [
    {
     "data": {
      "text/plain": [
       "57127"
      ]
     },
     "execution_count": 24,
     "metadata": {},
     "output_type": "execute_result"
    }
   ],
   "source": []
  },
  {
   "cell_type": "code",
   "execution_count": null,
   "metadata": {},
   "outputs": [],
   "source": [
    "for i in range(len(df2['salary_avg'])):\n",
    "    if df2['salary_avg'][i] == 'Y':\n",
    "        df2['salary_avg'][i] = 40000"
   ]
  },
  {
   "cell_type": "code",
   "execution_count": null,
   "metadata": {},
   "outputs": [],
   "source": [
    "df['公司內文']"
   ]
  },
  {
   "cell_type": "code",
   "execution_count": 7,
   "metadata": {},
   "outputs": [],
   "source": [
    "df=df.rename(columns={\n",
    "    '職缺連結':'job_link',\n",
    "    '職缺類別':'job_category',\n",
    "    '職位類別':'job_categories',\n",
    "    '職位':'position',\n",
    "    '縣市':'county',\n",
    "    '地區':'area',\n",
    "    '公司名稱':'company_name',\n",
    "    '職缺名稱':'job_title',\n",
    "    '工作內容':'work_content',\n",
    "    '職務類別':'work_category',\n",
    "    '上班時段':'working_hours',\n",
    "    '管理責任':'responsibility',\n",
    "    '工作待遇':'conditions',\n",
    "    '上班地點':'work_place',\n",
    "    '工作經歷':'work_experience',\n",
    "    '學歷要求':'Academic_requirements',\n",
    "    '科系要求':'Department_requirements',\n",
    "    '擅長工具':'tools',\n",
    "    '工作技能':'skills',\n",
    "    '資本額':'capital',\n",
    "    '外商':'Foreign'\n",
    "    })"
   ]
  },
  {
   "cell_type": "code",
   "execution_count": 8,
   "metadata": {},
   "outputs": [
    {
     "data": {
      "text/plain": [
       "0    ['國際厚生數位科技股份有限公司成立於民國89年5月，由擁有40多年豐富醫療經驗的秀傳醫療體...\n",
       "1    ['三商電腦成立於1976年，為三商控股集團旗下企業。創立初期，三商電腦便致力於國內銀行自動...\n",
       "2    ['創辦人專注於高頻交易十多餘年，於2015年創立 VICI Holdings 威旭資訊，以...\n",
       "3    ['#2021年榮獲HR Asia「亞洲最佳企業雇主獎」 #2021年榮獲台灣永續能源研究基...\n",
       "4    ['關於奔騰網路:  奔騰網路 成立於 2017 年，在 2020 年入圍新創之星。我們的使...\n",
       "Name: company_text, dtype: object"
      ]
     },
     "execution_count": 8,
     "metadata": {},
     "output_type": "execute_result"
    }
   ],
   "source": [
    "df['company_text'].head(5)"
   ]
  },
  {
   "cell_type": "code",
   "execution_count": 8,
   "metadata": {},
   "outputs": [
    {
     "data": {
      "text/plain": [
       "(57127, 21)"
      ]
     },
     "execution_count": 8,
     "metadata": {},
     "output_type": "execute_result"
    }
   ],
   "source": [
    "df.shape"
   ]
  },
  {
   "cell_type": "code",
   "execution_count": null,
   "metadata": {},
   "outputs": [],
   "source": [
    "df[['job_link', 'job_category', 'job_categories', 'county','area',\n",
    "'company_name','job_title','work_content','work_category','conditions',\n",
    "'work_place','work_experience','Academic_requirements','Department_requirements',\n",
    "'tools','skills','capital','company_text']]"
   ]
  },
  {
   "cell_type": "code",
   "execution_count": 8,
   "metadata": {},
   "outputs": [],
   "source": [
    "df = df[['job_link', 'job_category', 'job_categories', 'county','area',\n",
    "'company_name','job_title','work_content','work_category','conditions',\n",
    "'work_place','work_experience','Academic_requirements','Department_requirements',\n",
    "'tools','skills','capital','company_text']]\n",
    "\n"
   ]
  },
  {
   "cell_type": "code",
   "execution_count": 9,
   "metadata": {},
   "outputs": [],
   "source": [
    "ddf=pd.concat([df,df2],axis=1)"
   ]
  },
  {
   "cell_type": "code",
   "execution_count": 10,
   "metadata": {},
   "outputs": [
    {
     "data": {
      "text/plain": [
       "Index(['job_link', 'job_category', 'job_categories', 'position', 'county',\n",
       "       'area', 'company_name', 'job_title', 'work_content', 'work_category',\n",
       "       'conditions', 'work_place', 'responsibility', 'working_hours',\n",
       "       'work_experience', 'Academic_requirements', 'Department_requirements',\n",
       "       'tools', 'skills', 'capital', 'Foreign', 'Predicted'],\n",
       "      dtype='object')"
      ]
     },
     "execution_count": 10,
     "metadata": {},
     "output_type": "execute_result"
    }
   ],
   "source": [
    "ddf.columns"
   ]
  },
  {
   "cell_type": "code",
   "execution_count": 47,
   "metadata": {},
   "outputs": [],
   "source": [
    "\n",
    "ddf.to_csv('Predicted.csv', encoding='utf-8', index=False)"
   ]
  },
  {
   "cell_type": "code",
   "execution_count": 10,
   "metadata": {},
   "outputs": [],
   "source": [
    "df.to_csv('sql_job7.csv', encoding='utf-8', index=False)"
   ]
  },
  {
   "cell_type": "code",
   "execution_count": 12,
   "metadata": {},
   "outputs": [],
   "source": [
    "df = pd.read_csv('sql_job7.csv')"
   ]
  },
  {
   "cell_type": "code",
   "execution_count": 14,
   "metadata": {},
   "outputs": [
    {
     "data": {
      "text/html": [
       "<div>\n",
       "<style scoped>\n",
       "    .dataframe tbody tr th:only-of-type {\n",
       "        vertical-align: middle;\n",
       "    }\n",
       "\n",
       "    .dataframe tbody tr th {\n",
       "        vertical-align: top;\n",
       "    }\n",
       "\n",
       "    .dataframe thead th {\n",
       "        text-align: right;\n",
       "    }\n",
       "</style>\n",
       "<table border=\"1\" class=\"dataframe\">\n",
       "  <thead>\n",
       "    <tr style=\"text-align: right;\">\n",
       "      <th></th>\n",
       "      <th>job_link</th>\n",
       "      <th>job_category</th>\n",
       "      <th>job_categories</th>\n",
       "      <th>county</th>\n",
       "      <th>area</th>\n",
       "      <th>company_name</th>\n",
       "      <th>job_title</th>\n",
       "      <th>work_content</th>\n",
       "      <th>work_category</th>\n",
       "      <th>conditions</th>\n",
       "      <th>work_place</th>\n",
       "      <th>work_experience</th>\n",
       "      <th>Academic_requirements</th>\n",
       "      <th>Department_requirements</th>\n",
       "      <th>tools</th>\n",
       "      <th>skills</th>\n",
       "      <th>capital</th>\n",
       "      <th>company_text</th>\n",
       "    </tr>\n",
       "  </thead>\n",
       "  <tbody>\n",
       "    <tr>\n",
       "      <th>39</th>\n",
       "      <td>https://www.104.com.tw/job/6mppz?jobsource=201...</td>\n",
       "      <td>資訊軟體系統類</td>\n",
       "      <td>軟體_工程類人員</td>\n",
       "      <td>臺北市</td>\n",
       "      <td>中正區</td>\n",
       "      <td>富邦行銷股份有限公司</td>\n",
       "      <td>富邦行銷/富邦保代- Line官方帳號、網站等資訊系統開發工程師</td>\n",
       "      <td>1. 協助制定及推動公司數位轉型策略、數位專案平台規劃及系統優化等。 2. APP、WEB、...</td>\n",
       "      <td>系統分析師、Internet程式設計師、軟體專案主管</td>\n",
       "      <td>待遇面議（經常性薪資達 4 萬元或以上）</td>\n",
       "      <td>台北市中正區襄陽路9號17樓 (距捷運台大醫院站約170公尺)</td>\n",
       "      <td>0-1年</td>\n",
       "      <td>專科</td>\n",
       "      <td>['綜合教育相關', '普通科目教育相關', '專業科目教育相關', '學前教育相關', '...</td>\n",
       "      <td>NaN</td>\n",
       "      <td>不拘</td>\n",
       "      <td>100000000</td>\n",
       "      <td>['\\u3000\\u3000富邦行銷(股)公司為富邦金控旗下子公司，主要是以各式行銷方式(如...</td>\n",
       "    </tr>\n",
       "    <tr>\n",
       "      <th>104</th>\n",
       "      <td>https://www.104.com.tw/job/7t03v?jobsource=201...</td>\n",
       "      <td>資訊軟體系統類</td>\n",
       "      <td>軟體_工程類人員</td>\n",
       "      <td>臺北市</td>\n",
       "      <td>中山區</td>\n",
       "      <td>迪悌資訊顧問股份有限公司</td>\n",
       "      <td>系統分析師</td>\n",
       "      <td>1.具備專案管理相關經驗，熟悉專案文件規劃、撰寫能力及簡報能力2.具備團隊合作、溝通與積極學...</td>\n",
       "      <td>軟體專案主管、系統分析師</td>\n",
       "      <td>待遇面議（經常性薪資達 4 萬元或以上）</td>\n",
       "      <td>台北市中山區</td>\n",
       "      <td>5-10年</td>\n",
       "      <td>大學</td>\n",
       "      <td>['資訊工程相關', '資訊管理相關']</td>\n",
       "      <td>NaN</td>\n",
       "      <td>不拘</td>\n",
       "      <td>30000000</td>\n",
       "      <td>['迪悌資訊顧問股份有限公司(DTC Cortex Consulting Ltd.)成立於民...</td>\n",
       "    </tr>\n",
       "    <tr>\n",
       "      <th>105</th>\n",
       "      <td>https://www.104.com.tw/job/7t91n?jobsource=201...</td>\n",
       "      <td>資訊軟體系統類</td>\n",
       "      <td>軟體_工程類人員</td>\n",
       "      <td>臺北市</td>\n",
       "      <td>中山區</td>\n",
       "      <td>Amago Trip_翰晨旅行社股份有限公司</td>\n",
       "      <td>PM項目經理（有經驗）</td>\n",
       "      <td>Amago Trip為全台第一家一站式訂房B2B平台，產品量覆蓋全世界共70萬家飯店、211...</td>\n",
       "      <td>專案管理主管、軟體專案主管、產品管理師</td>\n",
       "      <td>待遇面議（經常性薪資達 4 萬元或以上）</td>\n",
       "      <td>台北市中山區林森北路258號4樓 (距捷運中山站約500公尺)</td>\n",
       "      <td>1-3年</td>\n",
       "      <td>大學</td>\n",
       "      <td>['綜合教育相關', '普通科目教育相關', '專業科目教育相關', '學前教育相關', '...</td>\n",
       "      <td>NaN</td>\n",
       "      <td>專案時間╱進度控管、專案規劃執行╱範圍管理、專案溝通╱整合管理、系統架構規劃、系統整合分析、...</td>\n",
       "      <td>10000000</td>\n",
       "      <td>['翰晨旅行社股份有限公司Amago Trip創立於2019年，總部位於台北市，是全台灣第一...</td>\n",
       "    </tr>\n",
       "    <tr>\n",
       "      <th>108</th>\n",
       "      <td>https://www.104.com.tw/job/7t2ht?jobsource=201...</td>\n",
       "      <td>資訊軟體系統類</td>\n",
       "      <td>軟體_工程類人員</td>\n",
       "      <td>臺北市</td>\n",
       "      <td>中山區</td>\n",
       "      <td>可樂旅遊_康福旅行社股份有限公司</td>\n",
       "      <td>網站後端工程師 (Java)</td>\n",
       "      <td>1. 全球市場：我們放眼海外市場，正在打造⼀個世界級的服務架構2. Data Driven：...</td>\n",
       "      <td>Internet程式設計師、軟體設計工程師、軟體專案主管</td>\n",
       "      <td>月薪45,000元以上 （固定或變動薪資因個人資歷或績效而異）</td>\n",
       "      <td>台北市中山區長春路172號12樓 (距捷運松江南京站約290公尺)</td>\n",
       "      <td>1-3年</td>\n",
       "      <td>大學</td>\n",
       "      <td>['綜合教育相關', '普通科目教育相關', '專業科目教育相關', '學前教育相關', '...</td>\n",
       "      <td>Java|Spring|中文打字50~75</td>\n",
       "      <td>專案溝通╱整合管理、系統架構規劃、軟體程式設計、資料庫程式設計、資料庫軟體應用</td>\n",
       "      <td>1280000000</td>\n",
       "      <td>['可樂旅遊於1981年註冊品牌，是台灣前3大旅遊集團之一，旗下包含三家公司：  (1)康福...</td>\n",
       "    </tr>\n",
       "    <tr>\n",
       "      <th>223</th>\n",
       "      <td>https://www.104.com.tw/job/7ao3h?jobsource=201...</td>\n",
       "      <td>資訊軟體系統類</td>\n",
       "      <td>軟體_工程類人員</td>\n",
       "      <td>臺北市</td>\n",
       "      <td>松山區</td>\n",
       "      <td>Worldline_台灣源訊環球科技股份有限公司</td>\n",
       "      <td>Software Architect</td>\n",
       "      <td>At Worldline, our technology addresses persist...</td>\n",
       "      <td>軟體專案主管、系統分析師、軟體設計工程師</td>\n",
       "      <td>待遇面議（經常性薪資達 4 萬元或以上）</td>\n",
       "      <td>台北市松山區民生東路三段100號5樓 (距捷運中山國中站約370公尺)</td>\n",
       "      <td>5-10年</td>\n",
       "      <td>大學</td>\n",
       "      <td>['綜合教育相關', '普通科目教育相關', '專業科目教育相關', '學前教育相關', '...</td>\n",
       "      <td>NaN</td>\n",
       "      <td>不拘</td>\n",
       "      <td>35000000</td>\n",
       "      <td>['About Worldline Worldline [Euronext: WLN] is...</td>\n",
       "    </tr>\n",
       "    <tr>\n",
       "      <th>...</th>\n",
       "      <td>...</td>\n",
       "      <td>...</td>\n",
       "      <td>...</td>\n",
       "      <td>...</td>\n",
       "      <td>...</td>\n",
       "      <td>...</td>\n",
       "      <td>...</td>\n",
       "      <td>...</td>\n",
       "      <td>...</td>\n",
       "      <td>...</td>\n",
       "      <td>...</td>\n",
       "      <td>...</td>\n",
       "      <td>...</td>\n",
       "      <td>...</td>\n",
       "      <td>...</td>\n",
       "      <td>...</td>\n",
       "      <td>...</td>\n",
       "      <td>...</td>\n",
       "    </tr>\n",
       "    <tr>\n",
       "      <th>57121</th>\n",
       "      <td>https://www.104.com.tw/job/7nlhy?jobsource=201...</td>\n",
       "      <td>資訊軟體系統類</td>\n",
       "      <td>MIS_網管類人員</td>\n",
       "      <td>高雄市</td>\n",
       "      <td>路竹區</td>\n",
       "      <td>科頂科技工業股份有限公司</td>\n",
       "      <td>資訊課長</td>\n",
       "      <td>1. 與使用者、管理階層、供應商及技術人員共同評估電腦與系統之需求。2. 確保各部門之資訊設...</td>\n",
       "      <td>軟體專案主管、MIS／網管主管、網路安全分析師</td>\n",
       "      <td>待遇面議（經常性薪資達 4 萬元或以上）</td>\n",
       "      <td>高雄市路竹區路科五路100號2樓</td>\n",
       "      <td>0-1年</td>\n",
       "      <td>高中</td>\n",
       "      <td>['綜合教育相關', '普通科目教育相關', '專業科目教育相關', '學前教育相關', '...</td>\n",
       "      <td>Linux|Cisco|Firewall|TCP/IP|鼎新</td>\n",
       "      <td>資訊設備環境設定、系統架構規劃、系統整合分析、軟體程式設計、網路程式設計、資料庫程式設計</td>\n",
       "      <td>100000000</td>\n",
       "      <td>[\"科頂科技擁有全球頂尖精密技術的牙科手機產品設計及製造中心。從高速氣動轉子、快速接頭、專用...</td>\n",
       "    </tr>\n",
       "    <tr>\n",
       "      <th>57122</th>\n",
       "      <td>https://www.104.com.tw/job/7oj9b?jobsource=201...</td>\n",
       "      <td>資訊軟體系統類</td>\n",
       "      <td>MIS_網管類人員</td>\n",
       "      <td>高雄市</td>\n",
       "      <td>大寮區</td>\n",
       "      <td>台郡科技股份有限公司(總公司)</td>\n",
       "      <td>資訊-資訊安全主管</td>\n",
       "      <td>1.熟悉網路安全架構，能夠規劃和設計網路安全架構。2.瞭解主流的安全產品（如防火牆、waf、...</td>\n",
       "      <td>網路安全分析師、軟體專案主管、MIS／網管主管</td>\n",
       "      <td>待遇面議（經常性薪資達 4 萬元或以上）</td>\n",
       "      <td>高雄市大寮區莒光一街23號 (大發工業區)</td>\n",
       "      <td>5-10年</td>\n",
       "      <td>大學</td>\n",
       "      <td>['綜合教育相關', '普通科目教育相關', '專業科目教育相關', '學前教育相關', '...</td>\n",
       "      <td>NaN</td>\n",
       "      <td>不拘</td>\n",
       "      <td>3300000000</td>\n",
       "      <td>['Your new journey, your great future--參與和全球前十...</td>\n",
       "    </tr>\n",
       "    <tr>\n",
       "      <th>57124</th>\n",
       "      <td>https://www.104.com.tw/job/74q66?jobsource=201...</td>\n",
       "      <td>資訊軟體系統類</td>\n",
       "      <td>MIS_網管類人員</td>\n",
       "      <td>臺東縣</td>\n",
       "      <td>達仁鄉</td>\n",
       "      <td>台灣世曦工程顧問股份有限公司</td>\n",
       "      <td>電腦工程師-A900008167</td>\n",
       "      <td>智慧運輸、交通控制等領域工作</td>\n",
       "      <td>Internet程式設計師、MIS程式設計師、網路安全分析師</td>\n",
       "      <td>月薪35,000~50,000元 （固定或變動薪資因個人資歷或績效而異）</td>\n",
       "      <td>台東縣達仁鄉及台灣世曦相關工作處所</td>\n",
       "      <td>0-1年</td>\n",
       "      <td>大學</td>\n",
       "      <td>['資訊工程相關', '電機電子工程相關']</td>\n",
       "      <td>NaN</td>\n",
       "      <td>不拘</td>\n",
       "      <td>0</td>\n",
       "      <td>['「台灣世曦工程顧問(股)公司」(以下簡稱本公司)係「財團法人中華顧問工程司」於2007年...</td>\n",
       "    </tr>\n",
       "    <tr>\n",
       "      <th>57125</th>\n",
       "      <td>https://www.104.com.tw/job/7olin?jobsource=201...</td>\n",
       "      <td>資訊軟體系統類</td>\n",
       "      <td>MIS_網管類人員</td>\n",
       "      <td>花蓮縣</td>\n",
       "      <td>吉安鄉</td>\n",
       "      <td>君達育樂事業股份有限公司</td>\n",
       "      <td>秧悦美地酒店 資訊主管</td>\n",
       "      <td>1.熟悉飯店金旭ERP系統及OPERA系統及Infrasys餐飲系統。2.確保各部門之資訊設...</td>\n",
       "      <td>MIS／網管主管、系統維護／操作人員、網路安全分析師</td>\n",
       "      <td>待遇面議（經常性薪資達 4 萬元或以上）</td>\n",
       "      <td>花蓮縣吉安鄉干城村干城二街100號</td>\n",
       "      <td>5-10年</td>\n",
       "      <td>大學</td>\n",
       "      <td>['綜合教育相關', '普通科目教育相關', '專業科目教育相關', '學前教育相關', '...</td>\n",
       "      <td>Java|PHP|Oracle|jQuery</td>\n",
       "      <td>不拘</td>\n",
       "      <td>400000000</td>\n",
       "      <td>['本公司創立於1987年， 旗下擁有的企業品牌有「秧悦美地度假酒店」、「君達休閒農場」、「...</td>\n",
       "    </tr>\n",
       "    <tr>\n",
       "      <th>57126</th>\n",
       "      <td>https://www.104.com.tw/job/7qjvc?jobsource=201...</td>\n",
       "      <td>資訊軟體系統類</td>\n",
       "      <td>MIS_網管類人員</td>\n",
       "      <td>花蓮縣</td>\n",
       "      <td>吉安鄉</td>\n",
       "      <td>君達育樂事業股份有限公司</td>\n",
       "      <td>總管理處 資訊主管</td>\n",
       "      <td>1.熟悉飯店金旭ERP系統及OPERA系統及Infrasys餐飲系統。2.確保各部門之資訊設...</td>\n",
       "      <td>MIS／網管主管、系統維護／操作人員、網路安全分析師</td>\n",
       "      <td>待遇面議（經常性薪資達 4 萬元或以上）</td>\n",
       "      <td>花蓮縣吉安鄉干城村干城二街100號</td>\n",
       "      <td>5-10年</td>\n",
       "      <td>大學</td>\n",
       "      <td>['綜合教育相關', '普通科目教育相關', '專業科目教育相關', '學前教育相關', '...</td>\n",
       "      <td>Java|PHP|Oracle|jQuery</td>\n",
       "      <td>不拘</td>\n",
       "      <td>400000000</td>\n",
       "      <td>['本公司創立於1987年， 旗下擁有的企業品牌有「秧悦美地度假酒店」、「君達休閒農場」、「...</td>\n",
       "    </tr>\n",
       "  </tbody>\n",
       "</table>\n",
       "<p>25874 rows × 18 columns</p>\n",
       "</div>"
      ],
      "text/plain": [
       "                                                job_link job_category  \\\n",
       "39     https://www.104.com.tw/job/6mppz?jobsource=201...      資訊軟體系統類   \n",
       "104    https://www.104.com.tw/job/7t03v?jobsource=201...      資訊軟體系統類   \n",
       "105    https://www.104.com.tw/job/7t91n?jobsource=201...      資訊軟體系統類   \n",
       "108    https://www.104.com.tw/job/7t2ht?jobsource=201...      資訊軟體系統類   \n",
       "223    https://www.104.com.tw/job/7ao3h?jobsource=201...      資訊軟體系統類   \n",
       "...                                                  ...          ...   \n",
       "57121  https://www.104.com.tw/job/7nlhy?jobsource=201...      資訊軟體系統類   \n",
       "57122  https://www.104.com.tw/job/7oj9b?jobsource=201...      資訊軟體系統類   \n",
       "57124  https://www.104.com.tw/job/74q66?jobsource=201...      資訊軟體系統類   \n",
       "57125  https://www.104.com.tw/job/7olin?jobsource=201...      資訊軟體系統類   \n",
       "57126  https://www.104.com.tw/job/7qjvc?jobsource=201...      資訊軟體系統類   \n",
       "\n",
       "      job_categories county area               company_name  \\\n",
       "39          軟體_工程類人員    臺北市  中正區                富邦行銷股份有限公司    \n",
       "104         軟體_工程類人員    臺北市  中山區              迪悌資訊顧問股份有限公司    \n",
       "105         軟體_工程類人員    臺北市  中山區    Amago Trip_翰晨旅行社股份有限公司    \n",
       "108         軟體_工程類人員    臺北市  中山區          可樂旅遊_康福旅行社股份有限公司    \n",
       "223         軟體_工程類人員    臺北市  松山區  Worldline_台灣源訊環球科技股份有限公司    \n",
       "...              ...    ...  ...                        ...   \n",
       "57121      MIS_網管類人員    高雄市  路竹區              科頂科技工業股份有限公司    \n",
       "57122      MIS_網管類人員    高雄市  大寮區           台郡科技股份有限公司(總公司)    \n",
       "57124      MIS_網管類人員    臺東縣  達仁鄉            台灣世曦工程顧問股份有限公司    \n",
       "57125      MIS_網管類人員    花蓮縣  吉安鄉              君達育樂事業股份有限公司    \n",
       "57126      MIS_網管類人員    花蓮縣  吉安鄉              君達育樂事業股份有限公司    \n",
       "\n",
       "                              job_title  \\\n",
       "39     富邦行銷/富邦保代- Line官方帳號、網站等資訊系統開發工程師   \n",
       "104                               系統分析師   \n",
       "105                         PM項目經理（有經驗）   \n",
       "108                      網站後端工程師 (Java)   \n",
       "223                  Software Architect   \n",
       "...                                 ...   \n",
       "57121                              資訊課長   \n",
       "57122                         資訊-資訊安全主管   \n",
       "57124                  電腦工程師-A900008167   \n",
       "57125                       秧悦美地酒店 資訊主管   \n",
       "57126                         總管理處 資訊主管   \n",
       "\n",
       "                                            work_content  \\\n",
       "39     1. 協助制定及推動公司數位轉型策略、數位專案平台規劃及系統優化等。 2. APP、WEB、...   \n",
       "104    1.具備專案管理相關經驗，熟悉專案文件規劃、撰寫能力及簡報能力2.具備團隊合作、溝通與積極學...   \n",
       "105    Amago Trip為全台第一家一站式訂房B2B平台，產品量覆蓋全世界共70萬家飯店、211...   \n",
       "108    1. 全球市場：我們放眼海外市場，正在打造⼀個世界級的服務架構2. Data Driven：...   \n",
       "223    At Worldline, our technology addresses persist...   \n",
       "...                                                  ...   \n",
       "57121  1. 與使用者、管理階層、供應商及技術人員共同評估電腦與系統之需求。2. 確保各部門之資訊設...   \n",
       "57122  1.熟悉網路安全架構，能夠規劃和設計網路安全架構。2.瞭解主流的安全產品（如防火牆、waf、...   \n",
       "57124                                     智慧運輸、交通控制等領域工作   \n",
       "57125  1.熟悉飯店金旭ERP系統及OPERA系統及Infrasys餐飲系統。2.確保各部門之資訊設...   \n",
       "57126  1.熟悉飯店金旭ERP系統及OPERA系統及Infrasys餐飲系統。2.確保各部門之資訊設...   \n",
       "\n",
       "                        work_category                            conditions  \\\n",
       "39         系統分析師、Internet程式設計師、軟體專案主管                  待遇面議（經常性薪資達 4 萬元或以上）   \n",
       "104                      軟體專案主管、系統分析師                  待遇面議（經常性薪資達 4 萬元或以上）   \n",
       "105               專案管理主管、軟體專案主管、產品管理師                  待遇面議（經常性薪資達 4 萬元或以上）   \n",
       "108      Internet程式設計師、軟體設計工程師、軟體專案主管       月薪45,000元以上 （固定或變動薪資因個人資歷或績效而異）   \n",
       "223              軟體專案主管、系統分析師、軟體設計工程師                  待遇面議（經常性薪資達 4 萬元或以上）   \n",
       "...                               ...                                   ...   \n",
       "57121         軟體專案主管、MIS／網管主管、網路安全分析師                  待遇面議（經常性薪資達 4 萬元或以上）   \n",
       "57122         網路安全分析師、軟體專案主管、MIS／網管主管                  待遇面議（經常性薪資達 4 萬元或以上）   \n",
       "57124  Internet程式設計師、MIS程式設計師、網路安全分析師  月薪35,000~50,000元 （固定或變動薪資因個人資歷或績效而異）   \n",
       "57125      MIS／網管主管、系統維護／操作人員、網路安全分析師                  待遇面議（經常性薪資達 4 萬元或以上）   \n",
       "57126      MIS／網管主管、系統維護／操作人員、網路安全分析師                  待遇面議（經常性薪資達 4 萬元或以上）   \n",
       "\n",
       "                                work_place work_experience  \\\n",
       "39         台北市中正區襄陽路9號17樓 (距捷運台大醫院站約170公尺)            0-1年   \n",
       "104                                 台北市中山區           5-10年   \n",
       "105        台北市中山區林森北路258號4樓 (距捷運中山站約500公尺)            1-3年   \n",
       "108      台北市中山區長春路172號12樓 (距捷運松江南京站約290公尺)            1-3年   \n",
       "223    台北市松山區民生東路三段100號5樓 (距捷運中山國中站約370公尺)           5-10年   \n",
       "...                                    ...             ...   \n",
       "57121                     高雄市路竹區路科五路100號2樓            0-1年   \n",
       "57122                高雄市大寮區莒光一街23號 (大發工業區)           5-10年   \n",
       "57124                    台東縣達仁鄉及台灣世曦相關工作處所            0-1年   \n",
       "57125                    花蓮縣吉安鄉干城村干城二街100號           5-10年   \n",
       "57126                    花蓮縣吉安鄉干城村干城二街100號           5-10年   \n",
       "\n",
       "      Academic_requirements  \\\n",
       "39                       專科   \n",
       "104                      大學   \n",
       "105                      大學   \n",
       "108                      大學   \n",
       "223                      大學   \n",
       "...                     ...   \n",
       "57121                    高中   \n",
       "57122                    大學   \n",
       "57124                    大學   \n",
       "57125                    大學   \n",
       "57126                    大學   \n",
       "\n",
       "                                 Department_requirements  \\\n",
       "39     ['綜合教育相關', '普通科目教育相關', '專業科目教育相關', '學前教育相關', '...   \n",
       "104                                 ['資訊工程相關', '資訊管理相關']   \n",
       "105    ['綜合教育相關', '普通科目教育相關', '專業科目教育相關', '學前教育相關', '...   \n",
       "108    ['綜合教育相關', '普通科目教育相關', '專業科目教育相關', '學前教育相關', '...   \n",
       "223    ['綜合教育相關', '普通科目教育相關', '專業科目教育相關', '學前教育相關', '...   \n",
       "...                                                  ...   \n",
       "57121  ['綜合教育相關', '普通科目教育相關', '專業科目教育相關', '學前教育相關', '...   \n",
       "57122  ['綜合教育相關', '普通科目教育相關', '專業科目教育相關', '學前教育相關', '...   \n",
       "57124                             ['資訊工程相關', '電機電子工程相關']   \n",
       "57125  ['綜合教育相關', '普通科目教育相關', '專業科目教育相關', '學前教育相關', '...   \n",
       "57126  ['綜合教育相關', '普通科目教育相關', '專業科目教育相關', '學前教育相關', '...   \n",
       "\n",
       "                                tools  \\\n",
       "39                                NaN   \n",
       "104                               NaN   \n",
       "105                               NaN   \n",
       "108             Java|Spring|中文打字50~75   \n",
       "223                               NaN   \n",
       "...                               ...   \n",
       "57121  Linux|Cisco|Firewall|TCP/IP|鼎新   \n",
       "57122                             NaN   \n",
       "57124                             NaN   \n",
       "57125          Java|PHP|Oracle|jQuery   \n",
       "57126          Java|PHP|Oracle|jQuery   \n",
       "\n",
       "                                                  skills     capital  \\\n",
       "39                                                    不拘   100000000   \n",
       "104                                                   不拘    30000000   \n",
       "105    專案時間╱進度控管、專案規劃執行╱範圍管理、專案溝通╱整合管理、系統架構規劃、系統整合分析、...    10000000   \n",
       "108              專案溝通╱整合管理、系統架構規劃、軟體程式設計、資料庫程式設計、資料庫軟體應用  1280000000   \n",
       "223                                                   不拘    35000000   \n",
       "...                                                  ...         ...   \n",
       "57121       資訊設備環境設定、系統架構規劃、系統整合分析、軟體程式設計、網路程式設計、資料庫程式設計   100000000   \n",
       "57122                                                 不拘  3300000000   \n",
       "57124                                                 不拘           0   \n",
       "57125                                                 不拘   400000000   \n",
       "57126                                                 不拘   400000000   \n",
       "\n",
       "                                            company_text  \n",
       "39     ['\\u3000\\u3000富邦行銷(股)公司為富邦金控旗下子公司，主要是以各式行銷方式(如...  \n",
       "104    ['迪悌資訊顧問股份有限公司(DTC Cortex Consulting Ltd.)成立於民...  \n",
       "105    ['翰晨旅行社股份有限公司Amago Trip創立於2019年，總部位於台北市，是全台灣第一...  \n",
       "108    ['可樂旅遊於1981年註冊品牌，是台灣前3大旅遊集團之一，旗下包含三家公司：  (1)康福...  \n",
       "223    ['About Worldline Worldline [Euronext: WLN] is...  \n",
       "...                                                  ...  \n",
       "57121  [\"科頂科技擁有全球頂尖精密技術的牙科手機產品設計及製造中心。從高速氣動轉子、快速接頭、專用...  \n",
       "57122  ['Your new journey, your great future--參與和全球前十...  \n",
       "57124  ['「台灣世曦工程顧問(股)公司」(以下簡稱本公司)係「財團法人中華顧問工程司」於2007年...  \n",
       "57125  ['本公司創立於1987年， 旗下擁有的企業品牌有「秧悦美地度假酒店」、「君達休閒農場」、「...  \n",
       "57126  ['本公司創立於1987年， 旗下擁有的企業品牌有「秧悦美地度假酒店」、「君達休閒農場」、「...  \n",
       "\n",
       "[25874 rows x 18 columns]"
      ]
     },
     "execution_count": 14,
     "metadata": {},
     "output_type": "execute_result"
    }
   ],
   "source": [
    "df[df.duplicated()==True]"
   ]
  }
 ],
 "metadata": {
  "kernelspec": {
   "display_name": "Python 3",
   "language": "python",
   "name": "python3"
  },
  "language_info": {
   "codemirror_mode": {
    "name": "ipython",
    "version": 3
   },
   "file_extension": ".py",
   "mimetype": "text/x-python",
   "name": "python",
   "nbconvert_exporter": "python",
   "pygments_lexer": "ipython3",
   "version": "3.10.7"
  },
  "orig_nbformat": 4,
  "vscode": {
   "interpreter": {
    "hash": "26de051ba29f2982a8de78e945f0abaf191376122a1563185a90213a26c5da77"
   }
  }
 },
 "nbformat": 4,
 "nbformat_minor": 2
}
